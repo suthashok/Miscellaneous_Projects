{
 "cells": [
  {
   "cell_type": "code",
   "execution_count": 104,
   "metadata": {
    "collapsed": true
   },
   "outputs": [],
   "source": [
    "import numpy as np\n",
    "import pandas as pd\n",
    "import time\n",
    "import datetime"
   ]
  },
  {
   "cell_type": "code",
   "execution_count": 46,
   "metadata": {
    "collapsed": true
   },
   "outputs": [],
   "source": [
    "test_set=pd.read_excel('./Data/Test_Set.xlsx')"
   ]
  },
  {
   "cell_type": "code",
   "execution_count": 47,
   "metadata": {
    "collapsed": false
   },
   "outputs": [
    {
     "data": {
      "text/html": [
       "<div>\n",
       "<table border=\"1\" class=\"dataframe\">\n",
       "  <thead>\n",
       "    <tr style=\"text-align: right;\">\n",
       "      <th></th>\n",
       "      <th>Customer_ID</th>\n",
       "      <th>Store_Code</th>\n",
       "    </tr>\n",
       "  </thead>\n",
       "  <tbody>\n",
       "    <tr>\n",
       "      <th>0</th>\n",
       "      <td>1800000006365760</td>\n",
       "      <td>60298</td>\n",
       "    </tr>\n",
       "    <tr>\n",
       "      <th>1</th>\n",
       "      <td>1800000006365760</td>\n",
       "      <td>60299</td>\n",
       "    </tr>\n",
       "    <tr>\n",
       "      <th>2</th>\n",
       "      <td>1800000006365760</td>\n",
       "      <td>60300</td>\n",
       "    </tr>\n",
       "    <tr>\n",
       "      <th>3</th>\n",
       "      <td>1800000006365760</td>\n",
       "      <td>60301</td>\n",
       "    </tr>\n",
       "    <tr>\n",
       "      <th>4</th>\n",
       "      <td>1800000006365820</td>\n",
       "      <td>60298</td>\n",
       "    </tr>\n",
       "  </tbody>\n",
       "</table>\n",
       "</div>"
      ],
      "text/plain": [
       "        Customer_ID  Store_Code\n",
       "0  1800000006365760       60298\n",
       "1  1800000006365760       60299\n",
       "2  1800000006365760       60300\n",
       "3  1800000006365760       60301\n",
       "4  1800000006365820       60298"
      ]
     },
     "execution_count": 47,
     "metadata": {},
     "output_type": "execute_result"
    }
   ],
   "source": [
    "test_set.head()"
   ]
  },
  {
   "cell_type": "code",
   "execution_count": 48,
   "metadata": {
    "collapsed": false
   },
   "outputs": [
    {
     "data": {
      "text/plain": [
       "array([60298, 60299, 60300, 60301], dtype=int64)"
      ]
     },
     "execution_count": 48,
     "metadata": {},
     "output_type": "execute_result"
    }
   ],
   "source": [
    "test_set.Store_Code.unique()"
   ]
  },
  {
   "cell_type": "code",
   "execution_count": 101,
   "metadata": {
    "collapsed": false
   },
   "outputs": [],
   "source": [
    "cust_demogs=pd.read_excel('./Data/Customer_Demographics.xlsx')"
   ]
  },
  {
   "cell_type": "code",
   "execution_count": 130,
   "metadata": {
    "collapsed": false,
    "scrolled": true
   },
   "outputs": [
    {
     "data": {
      "text/html": [
       "<div>\n",
       "<table border=\"1\" class=\"dataframe\">\n",
       "  <thead>\n",
       "    <tr style=\"text-align: right;\">\n",
       "      <th></th>\n",
       "      <th>Customer_ID</th>\n",
       "      <th>Territory</th>\n",
       "      <th>Nationality</th>\n",
       "      <th>Income_Range</th>\n",
       "      <th>Job_Type</th>\n",
       "      <th>Marital_Status</th>\n",
       "      <th>Gender</th>\n",
       "      <th>State</th>\n",
       "      <th>Language</th>\n",
       "      <th>Loyalty_Status</th>\n",
       "      <th>Birth_date</th>\n",
       "      <th>Age</th>\n",
       "      <th>Points</th>\n",
       "      <th>First_txn_dt</th>\n",
       "      <th>Last_accr_txn_dt</th>\n",
       "      <th>Last_rdm_txn_dt</th>\n",
       "      <th>Age_new</th>\n",
       "      <th>Transaction_age</th>\n",
       "      <th>Redeem_age</th>\n",
       "    </tr>\n",
       "  </thead>\n",
       "  <tbody>\n",
       "    <tr>\n",
       "      <th>0</th>\n",
       "      <td>1800000006365760</td>\n",
       "      <td>United Arab Emirates</td>\n",
       "      <td>INDIA</td>\n",
       "      <td>Below_5000</td>\n",
       "      <td>Services</td>\n",
       "      <td>Married</td>\n",
       "      <td>M</td>\n",
       "      <td>Abu Dhabi</td>\n",
       "      <td>English</td>\n",
       "      <td>Gold</td>\n",
       "      <td>1959-06-01</td>\n",
       "      <td>59.0</td>\n",
       "      <td>814.0</td>\n",
       "      <td>2010-11-02</td>\n",
       "      <td>2018-09-27</td>\n",
       "      <td>2018-03-11</td>\n",
       "      <td>59.0</td>\n",
       "      <td>2886.0</td>\n",
       "      <td>2686.0</td>\n",
       "    </tr>\n",
       "    <tr>\n",
       "      <th>1</th>\n",
       "      <td>1800000006365820</td>\n",
       "      <td>United Arab Emirates</td>\n",
       "      <td>UNITED ARAB EMIRATES</td>\n",
       "      <td>Below_5000</td>\n",
       "      <td>Services</td>\n",
       "      <td>Married</td>\n",
       "      <td>F</td>\n",
       "      <td>Abu Dhabi</td>\n",
       "      <td>Arabic</td>\n",
       "      <td>Silver</td>\n",
       "      <td>1900-01-01</td>\n",
       "      <td>NaN</td>\n",
       "      <td>212.0</td>\n",
       "      <td>2010-12-06</td>\n",
       "      <td>2016-08-16</td>\n",
       "      <td>2015-03-16</td>\n",
       "      <td>118.0</td>\n",
       "      <td>2080.0</td>\n",
       "      <td>1561.0</td>\n",
       "    </tr>\n",
       "    <tr>\n",
       "      <th>2</th>\n",
       "      <td>1800000006366060</td>\n",
       "      <td>United Arab Emirates</td>\n",
       "      <td>SRI LANKA</td>\n",
       "      <td>Below_5000</td>\n",
       "      <td>Services</td>\n",
       "      <td>Married</td>\n",
       "      <td>M</td>\n",
       "      <td>Abu Dhabi</td>\n",
       "      <td>English</td>\n",
       "      <td>Silver</td>\n",
       "      <td>1959-06-07</td>\n",
       "      <td>59.0</td>\n",
       "      <td>186.0</td>\n",
       "      <td>2011-02-17</td>\n",
       "      <td>2018-08-31</td>\n",
       "      <td>2017-01-30</td>\n",
       "      <td>59.0</td>\n",
       "      <td>2752.0</td>\n",
       "      <td>2174.0</td>\n",
       "    </tr>\n",
       "    <tr>\n",
       "      <th>3</th>\n",
       "      <td>1800000006366230</td>\n",
       "      <td>United Arab Emirates</td>\n",
       "      <td>JORDAN</td>\n",
       "      <td>Below_5000</td>\n",
       "      <td>Services</td>\n",
       "      <td>Married</td>\n",
       "      <td>F</td>\n",
       "      <td>Abu Dhabi</td>\n",
       "      <td>Arabic</td>\n",
       "      <td>Silver</td>\n",
       "      <td>1962-01-21</td>\n",
       "      <td>57.0</td>\n",
       "      <td>126.0</td>\n",
       "      <td>2010-10-30</td>\n",
       "      <td>2018-07-30</td>\n",
       "      <td>2017-06-20</td>\n",
       "      <td>56.0</td>\n",
       "      <td>2830.0</td>\n",
       "      <td>2425.0</td>\n",
       "    </tr>\n",
       "    <tr>\n",
       "      <th>4</th>\n",
       "      <td>1800000006366570</td>\n",
       "      <td>United Arab Emirates</td>\n",
       "      <td>OCCUPIED PALESTINIAN TERRITORY</td>\n",
       "      <td>Below_5000</td>\n",
       "      <td>Services</td>\n",
       "      <td>Married</td>\n",
       "      <td>M</td>\n",
       "      <td>Abu Dhabi</td>\n",
       "      <td>Arabic</td>\n",
       "      <td>Silver</td>\n",
       "      <td>1900-01-01</td>\n",
       "      <td>NaN</td>\n",
       "      <td>197.0</td>\n",
       "      <td>2010-11-10</td>\n",
       "      <td>2018-09-03</td>\n",
       "      <td>2017-06-17</td>\n",
       "      <td>118.0</td>\n",
       "      <td>2854.0</td>\n",
       "      <td>2411.0</td>\n",
       "    </tr>\n",
       "  </tbody>\n",
       "</table>\n",
       "</div>"
      ],
      "text/plain": [
       "        Customer_ID             Territory                     Nationality  \\\n",
       "0  1800000006365760  United Arab Emirates                           INDIA   \n",
       "1  1800000006365820  United Arab Emirates            UNITED ARAB EMIRATES   \n",
       "2  1800000006366060  United Arab Emirates                       SRI LANKA   \n",
       "3  1800000006366230  United Arab Emirates                          JORDAN   \n",
       "4  1800000006366570  United Arab Emirates  OCCUPIED PALESTINIAN TERRITORY   \n",
       "\n",
       "  Income_Range  Job_Type Marital_Status Gender      State Language  \\\n",
       "0   Below_5000  Services        Married      M  Abu Dhabi  English   \n",
       "1   Below_5000  Services        Married      F  Abu Dhabi   Arabic   \n",
       "2   Below_5000  Services        Married      M  Abu Dhabi  English   \n",
       "3   Below_5000  Services        Married      F  Abu Dhabi   Arabic   \n",
       "4   Below_5000  Services        Married      M  Abu Dhabi   Arabic   \n",
       "\n",
       "  Loyalty_Status Birth_date   Age  Points First_txn_dt Last_accr_txn_dt  \\\n",
       "0           Gold 1959-06-01  59.0   814.0   2010-11-02       2018-09-27   \n",
       "1         Silver 1900-01-01   NaN   212.0   2010-12-06       2016-08-16   \n",
       "2         Silver 1959-06-07  59.0   186.0   2011-02-17       2018-08-31   \n",
       "3         Silver 1962-01-21  57.0   126.0   2010-10-30       2018-07-30   \n",
       "4         Silver 1900-01-01   NaN   197.0   2010-11-10       2018-09-03   \n",
       "\n",
       "  Last_rdm_txn_dt  Age_new  Transaction_age  Redeem_age  \n",
       "0      2018-03-11     59.0           2886.0      2686.0  \n",
       "1      2015-03-16    118.0           2080.0      1561.0  \n",
       "2      2017-01-30     59.0           2752.0      2174.0  \n",
       "3      2017-06-20     56.0           2830.0      2425.0  \n",
       "4      2017-06-17    118.0           2854.0      2411.0  "
      ]
     },
     "execution_count": 130,
     "metadata": {},
     "output_type": "execute_result"
    }
   ],
   "source": [
    "cust_demogs.head()"
   ]
  },
  {
   "cell_type": "code",
   "execution_count": 105,
   "metadata": {
    "collapsed": false
   },
   "outputs": [],
   "source": [
    "cust_demogs['Birth_date'] = pd.to_datetime(cust_demogs['Birth_date'], format='%d%b%Y:%H:%M:%S')\n",
    "cust_demogs['First_txn_dt'] = pd.to_datetime(cust_demogs['First_txn_dt'], format='%d%b%Y:%H:%M:%S')\n",
    "cust_demogs['Last_accr_txn_dt'] = pd.to_datetime(cust_demogs['Last_accr_txn_dt'], format='%d%b%Y:%H:%M:%S')\n",
    "cust_demogs['Last_rdm_txn_dt'] = pd.to_datetime(cust_demogs['Last_rdm_txn_dt'], format='%d%b%Y:%H:%M:%S')\n",
    "#Last_accr_txn_dt, First_txn_dt\n",
    "#cust_demogs['Birth_date']=pd.to_datetime(cust_demogs['Birth_date']).date()"
   ]
  },
  {
   "cell_type": "code",
   "execution_count": 108,
   "metadata": {
    "collapsed": false
   },
   "outputs": [],
   "source": [
    "cust_demogs['Last_accr_txn_dt']=cust_demogs['Last_accr_txn_dt'].dt.date"
   ]
  },
  {
   "cell_type": "code",
   "execution_count": 109,
   "metadata": {
    "collapsed": false
   },
   "outputs": [],
   "source": [
    "cust_demogs['Last_rdm_txn_dt']=cust_demogs['Last_rdm_txn_dt'].dt.date"
   ]
  },
  {
   "cell_type": "code",
   "execution_count": 111,
   "metadata": {
    "collapsed": false
   },
   "outputs": [],
   "source": [
    "cust_demogs['Age_new']=2018-cust_demogs['Birth_date'].dt.year"
   ]
  },
  {
   "cell_type": "code",
   "execution_count": 112,
   "metadata": {
    "collapsed": false
   },
   "outputs": [],
   "source": [
    "cust_demogs['Age_new'] = cust_demogs['Age_new'].replace(np.nan, 2018)"
   ]
  },
  {
   "cell_type": "code",
   "execution_count": 115,
   "metadata": {
    "collapsed": true
   },
   "outputs": [],
   "source": [
    "cust_demogs['Income_Range'] = cust_demogs['Income_Range'].replace('Below 5000', 'Below_5000')\n",
    "cust_demogs['Income_Range'] = cust_demogs['Income_Range'].replace('5001 to 10000', '5001_to_10000')\n",
    "cust_demogs['Income_Range'] = cust_demogs['Income_Range'].replace('10001 to 20000', '10001_to_20000')\n",
    "cust_demogs['Income_Range'] = cust_demogs['Income_Range'].replace('20001 to 30000', '20001_to_30000')\n",
    "cust_demogs['Income_Range'] = cust_demogs['Income_Range'].replace('30001 & Above', '30001_Above')"
   ]
  },
  {
   "cell_type": "code",
   "execution_count": 117,
   "metadata": {
    "collapsed": true
   },
   "outputs": [],
   "source": [
    "cust_demogs['Job_Type'] = cust_demogs['Job_Type'].replace('Self Employed', 'Self_Employed')\n",
    "cust_demogs['Job_Type'] = cust_demogs['Job_Type'].replace('PRESIDENT/SECY/TREASURER TO CLUB/ASSOC/SOCIETY', 'PREZ/SECY/TREAS_TO_CLUB/ASSOC/SOCIETY')\n",
    "cust_demogs['Job_Type'] = cust_demogs['Job_Type'].replace('Chief Execuetive Officer', 'Chief_Execuetive_Officer')\n",
    "cust_demogs['Job_Type'] = cust_demogs['Job_Type'].replace('Sales Executive', 'Sales_Executive')"
   ]
  },
  {
   "cell_type": "code",
   "execution_count": 124,
   "metadata": {
    "collapsed": false
   },
   "outputs": [],
   "source": [
    "cust_demogs['Points'].fillna((cust_demogs['Points'].mean()), inplace=True)"
   ]
  },
  {
   "cell_type": "code",
   "execution_count": 129,
   "metadata": {
    "collapsed": false
   },
   "outputs": [],
   "source": [
    "cust_demogs['Transaction_age'] = (pd.to_datetime(cust_demogs['Last_accr_txn_dt']) - pd.to_datetime(cust_demogs['First_txn_dt'])).dt.days\n",
    "cust_demogs['Redeem_age'] = (pd.to_datetime(cust_demogs['Last_rdm_txn_dt']) - pd.to_datetime(cust_demogs['First_txn_dt'])).dt.days"
   ]
  },
  {
   "cell_type": "code",
   "execution_count": 132,
   "metadata": {
    "collapsed": true
   },
   "outputs": [],
   "source": [
    "cust_demogs['Transaction_age'].fillna((cust_demogs['Transaction_age'].mean()), inplace=True)"
   ]
  },
  {
   "cell_type": "code",
   "execution_count": 133,
   "metadata": {
    "collapsed": true
   },
   "outputs": [],
   "source": [
    "cust_demogs['Redeem_age'] = cust_demogs['Redeem_age'].replace(np.nan, 0)"
   ]
  },
  {
   "cell_type": "code",
   "execution_count": 134,
   "metadata": {
    "collapsed": false
   },
   "outputs": [
    {
     "data": {
      "text/plain": [
       "Customer_ID             0\n",
       "Territory               0\n",
       "Nationality             0\n",
       "Income_Range            0\n",
       "Job_Type                0\n",
       "Marital_Status          0\n",
       "Gender                  0\n",
       "State                   0\n",
       "Language                0\n",
       "Loyalty_Status          0\n",
       "Birth_date          17538\n",
       "Age                 26096\n",
       "Points                  0\n",
       "First_txn_dt           33\n",
       "Last_accr_txn_dt        6\n",
       "Last_rdm_txn_dt     28419\n",
       "Age_new                 0\n",
       "Transaction_age         0\n",
       "Redeem_age              0\n",
       "dtype: int64"
      ]
     },
     "execution_count": 134,
     "metadata": {},
     "output_type": "execute_result"
    }
   ],
   "source": [
    "cust_demogs.isnull().sum()"
   ]
  },
  {
   "cell_type": "code",
   "execution_count": 135,
   "metadata": {
    "collapsed": true
   },
   "outputs": [],
   "source": [
    "cust_demogs_final=cust_demogs[['Customer_ID','Income_Range','Job_Type','Marital_Status','Gender','Language','Loyalty_Status','Age_new','Points','Transaction_age','Redeem_age']]"
   ]
  },
  {
   "cell_type": "code",
   "execution_count": 136,
   "metadata": {
    "collapsed": false
   },
   "outputs": [
    {
     "data": {
      "text/plain": [
       "100000"
      ]
     },
     "execution_count": 136,
     "metadata": {},
     "output_type": "execute_result"
    }
   ],
   "source": [
    "cust_demogs_final.Customer_ID.nunique()"
   ]
  },
  {
   "cell_type": "code",
   "execution_count": 158,
   "metadata": {
    "collapsed": true
   },
   "outputs": [],
   "source": [
    "cust_demogs_final_dummies = pd.get_dummies(cust_demogs_final, columns=['Income_Range', 'Job_Type', 'Marital_Status', 'Gender','Language','Loyalty_Status'])"
   ]
  },
  {
   "cell_type": "markdown",
   "metadata": {},
   "source": [
    "### Store Info"
   ]
  },
  {
   "cell_type": "code",
   "execution_count": 4,
   "metadata": {
    "collapsed": true
   },
   "outputs": [],
   "source": [
    "store_info=pd.read_excel('./Data/Store_Master.xlsx')"
   ]
  },
  {
   "cell_type": "code",
   "execution_count": 173,
   "metadata": {
    "collapsed": false
   },
   "outputs": [
    {
     "data": {
      "text/html": [
       "<div>\n",
       "<table border=\"1\" class=\"dataframe\">\n",
       "  <thead>\n",
       "    <tr style=\"text-align: right;\">\n",
       "      <th></th>\n",
       "      <th>Territory</th>\n",
       "      <th>Business</th>\n",
       "      <th>Region</th>\n",
       "      <th>Region_Code</th>\n",
       "      <th>Store_Code</th>\n",
       "      <th>Store_Name</th>\n",
       "      <th>Mall_Name</th>\n",
       "      <th>Store_Format</th>\n",
       "      <th>Sales_Per_Day</th>\n",
       "      <th>Store_Launch_Date</th>\n",
       "      <th>Train_Test_Store</th>\n",
       "      <th>Geo_Field</th>\n",
       "      <th>Store_Size_Sq_Ft</th>\n",
       "      <th>Customer_Count</th>\n",
       "      <th>Total_Revenue</th>\n",
       "      <th>launch_year</th>\n",
       "    </tr>\n",
       "  </thead>\n",
       "  <tbody>\n",
       "    <tr>\n",
       "      <th>0</th>\n",
       "      <td>United Arab Emirates</td>\n",
       "      <td>Max</td>\n",
       "      <td>MX - Abu Dhabi</td>\n",
       "      <td>602</td>\n",
       "      <td>60077</td>\n",
       "      <td>Max Zayed City Mall</td>\n",
       "      <td>City Mall - Abu Dhabi-Uae</td>\n",
       "      <td>NaN</td>\n",
       "      <td>544.074849</td>\n",
       "      <td>2011-11-02</td>\n",
       "      <td>Train</td>\n",
       "      <td>25.618167, 53.441646</td>\n",
       "      <td>4852.220341</td>\n",
       "      <td>22237.0</td>\n",
       "      <td>1.131676e+07</td>\n",
       "      <td>2011</td>\n",
       "    </tr>\n",
       "    <tr>\n",
       "      <th>1</th>\n",
       "      <td>United Arab Emirates</td>\n",
       "      <td>Max</td>\n",
       "      <td>MX - Sharjah</td>\n",
       "      <td>606</td>\n",
       "      <td>60073</td>\n",
       "      <td>Max Safeer Mall</td>\n",
       "      <td>Safeer Mall Sharjah-Uae</td>\n",
       "      <td>NaN</td>\n",
       "      <td>1251.656549</td>\n",
       "      <td>2009-08-21</td>\n",
       "      <td>Train</td>\n",
       "      <td>25.309997, 55.378550</td>\n",
       "      <td>13789.949661</td>\n",
       "      <td>88372.0</td>\n",
       "      <td>2.603446e+07</td>\n",
       "      <td>2009</td>\n",
       "    </tr>\n",
       "    <tr>\n",
       "      <th>2</th>\n",
       "      <td>United Arab Emirates</td>\n",
       "      <td>Max</td>\n",
       "      <td>MX - Dubai</td>\n",
       "      <td>601</td>\n",
       "      <td>60065</td>\n",
       "      <td>Max Gardens</td>\n",
       "      <td>Ibn Battuta Mall-Uae</td>\n",
       "      <td>NaN</td>\n",
       "      <td>3319.885702</td>\n",
       "      <td>2005-04-15</td>\n",
       "      <td>Train</td>\n",
       "      <td>25.044684, 55.120275</td>\n",
       "      <td>15609.687991</td>\n",
       "      <td>188836.0</td>\n",
       "      <td>6.905362e+07</td>\n",
       "      <td>2005</td>\n",
       "    </tr>\n",
       "    <tr>\n",
       "      <th>3</th>\n",
       "      <td>United Arab Emirates</td>\n",
       "      <td>Max</td>\n",
       "      <td>MX - Dubai</td>\n",
       "      <td>601</td>\n",
       "      <td>60219</td>\n",
       "      <td>MX -Dubai Festival City</td>\n",
       "      <td>Dubai Festival City-Uae</td>\n",
       "      <td>Stand Alone Stores</td>\n",
       "      <td>1211.477261</td>\n",
       "      <td>2014-06-12</td>\n",
       "      <td>Train</td>\n",
       "      <td>25.218486, 55.359313</td>\n",
       "      <td>6845.497058</td>\n",
       "      <td>96733.0</td>\n",
       "      <td>2.519873e+07</td>\n",
       "      <td>2014</td>\n",
       "    </tr>\n",
       "    <tr>\n",
       "      <th>4</th>\n",
       "      <td>United Arab Emirates</td>\n",
       "      <td>Max</td>\n",
       "      <td>MX - Ras Al Khaimah</td>\n",
       "      <td>605</td>\n",
       "      <td>60071</td>\n",
       "      <td>Max Rak</td>\n",
       "      <td>STANDALONE</td>\n",
       "      <td>NaN</td>\n",
       "      <td>2221.872874</td>\n",
       "      <td>2006-03-20</td>\n",
       "      <td>Train</td>\n",
       "      <td>NaN</td>\n",
       "      <td>12385.047461</td>\n",
       "      <td>70456.0</td>\n",
       "      <td>4.621496e+07</td>\n",
       "      <td>2006</td>\n",
       "    </tr>\n",
       "  </tbody>\n",
       "</table>\n",
       "</div>"
      ],
      "text/plain": [
       "              Territory Business               Region  Region_Code  \\\n",
       "0  United Arab Emirates      Max       MX - Abu Dhabi          602   \n",
       "1  United Arab Emirates      Max         MX - Sharjah          606   \n",
       "2  United Arab Emirates      Max           MX - Dubai          601   \n",
       "3  United Arab Emirates      Max           MX - Dubai          601   \n",
       "4  United Arab Emirates      Max  MX - Ras Al Khaimah          605   \n",
       "\n",
       "   Store_Code               Store_Name                  Mall_Name  \\\n",
       "0       60077      Max Zayed City Mall  City Mall - Abu Dhabi-Uae   \n",
       "1       60073          Max Safeer Mall    Safeer Mall Sharjah-Uae   \n",
       "2       60065              Max Gardens       Ibn Battuta Mall-Uae   \n",
       "3       60219  MX -Dubai Festival City    Dubai Festival City-Uae   \n",
       "4       60071                  Max Rak                 STANDALONE   \n",
       "\n",
       "         Store_Format  Sales_Per_Day Store_Launch_Date Train_Test_Store  \\\n",
       "0                 NaN     544.074849        2011-11-02            Train   \n",
       "1                 NaN    1251.656549        2009-08-21            Train   \n",
       "2                 NaN    3319.885702        2005-04-15            Train   \n",
       "3  Stand Alone Stores    1211.477261        2014-06-12            Train   \n",
       "4                 NaN    2221.872874        2006-03-20            Train   \n",
       "\n",
       "              Geo_Field  Store_Size_Sq_Ft  Customer_Count  Total_Revenue  \\\n",
       "0  25.618167, 53.441646       4852.220341         22237.0   1.131676e+07   \n",
       "1  25.309997, 55.378550      13789.949661         88372.0   2.603446e+07   \n",
       "2  25.044684, 55.120275      15609.687991        188836.0   6.905362e+07   \n",
       "3  25.218486, 55.359313       6845.497058         96733.0   2.519873e+07   \n",
       "4                   NaN      12385.047461         70456.0   4.621496e+07   \n",
       "\n",
       "   launch_year  \n",
       "0         2011  \n",
       "1         2009  \n",
       "2         2005  \n",
       "3         2014  \n",
       "4         2006  "
      ]
     },
     "execution_count": 173,
     "metadata": {},
     "output_type": "execute_result"
    }
   ],
   "source": [
    "store_info.head()"
   ]
  },
  {
   "cell_type": "code",
   "execution_count": 49,
   "metadata": {
    "collapsed": true
   },
   "outputs": [],
   "source": [
    "store_info['launch_year'] = store_info['Store_Launch_Date'].dt.year"
   ]
  },
  {
   "cell_type": "code",
   "execution_count": 52,
   "metadata": {
    "collapsed": false
   },
   "outputs": [
    {
     "data": {
      "text/plain": [
       "(35, 16)"
      ]
     },
     "execution_count": 52,
     "metadata": {},
     "output_type": "execute_result"
    }
   ],
   "source": [
    "store_info.shape"
   ]
  },
  {
   "cell_type": "code",
   "execution_count": 66,
   "metadata": {
    "collapsed": false
   },
   "outputs": [
    {
     "data": {
      "text/plain": [
       "Train_Test_Store\n",
       "Test      4\n",
       "Train    31\n",
       "dtype: int64"
      ]
     },
     "execution_count": 66,
     "metadata": {},
     "output_type": "execute_result"
    }
   ],
   "source": [
    "store_info.groupby(['Train_Test_Store']).size()"
   ]
  },
  {
   "cell_type": "code",
   "execution_count": 58,
   "metadata": {
    "collapsed": false
   },
   "outputs": [],
   "source": [
    "store_info_final=store_info[['Store_Code','Store_Format','Region_Code','Store_Size_Sq_Ft','Customer_Count','Total_Revenue','launch_year']]"
   ]
  },
  {
   "cell_type": "code",
   "execution_count": null,
   "metadata": {
    "collapsed": true
   },
   "outputs": [],
   "source": [
    "store_info_final['Store_Format'] = store_info_final['Store_Format'].replace(np.nan, 'other')\n",
    "store_info_final['Store_Format'] = store_info_final['Store_Format'].replace('Stand Alone Stores', 'Stand_Alone')\n",
    "store_info_final['Store_Format'] = store_info_final['Store_Format'].replace('Mall Stores', 'Mall_Stores')"
   ]
  },
  {
   "cell_type": "code",
   "execution_count": 67,
   "metadata": {
    "collapsed": false
   },
   "outputs": [
    {
     "name": "stderr",
     "output_type": "stream",
     "text": [
      "C:\\Anaconda2\\lib\\site-packages\\ipykernel\\__main__.py:1: SettingWithCopyWarning: \n",
      "A value is trying to be set on a copy of a slice from a DataFrame.\n",
      "Try using .loc[row_indexer,col_indexer] = value instead\n",
      "\n",
      "See the caveats in the documentation: http://pandas.pydata.org/pandas-docs/stable/indexing.html#indexing-view-versus-copy\n",
      "  if __name__ == '__main__':\n",
      "C:\\Anaconda2\\lib\\site-packages\\ipykernel\\__main__.py:2: SettingWithCopyWarning: \n",
      "A value is trying to be set on a copy of a slice from a DataFrame.\n",
      "Try using .loc[row_indexer,col_indexer] = value instead\n",
      "\n",
      "See the caveats in the documentation: http://pandas.pydata.org/pandas-docs/stable/indexing.html#indexing-view-versus-copy\n",
      "  from ipykernel import kernelapp as app\n"
     ]
    }
   ],
   "source": [
    "store_info_final['ff_per_sqft']=store_info_final['Customer_Count']/store_info_final['Store_Size_Sq_Ft']\n",
    "store_info_final['rev_per_sqft']=store_info_final['Total_Revenue']/store_info_final['Store_Size_Sq_Ft']"
   ]
  },
  {
   "cell_type": "code",
   "execution_count": 171,
   "metadata": {
    "collapsed": false
   },
   "outputs": [
    {
     "data": {
      "text/html": [
       "<div>\n",
       "<table border=\"1\" class=\"dataframe\">\n",
       "  <thead>\n",
       "    <tr style=\"text-align: right;\">\n",
       "      <th></th>\n",
       "      <th>Store_Code</th>\n",
       "      <th>Store_Format</th>\n",
       "      <th>Region_Code</th>\n",
       "      <th>Store_Size_Sq_Ft</th>\n",
       "      <th>Customer_Count</th>\n",
       "      <th>Total_Revenue</th>\n",
       "      <th>launch_year</th>\n",
       "      <th>ff_per_sqft</th>\n",
       "      <th>rev_per_sqft</th>\n",
       "    </tr>\n",
       "  </thead>\n",
       "  <tbody>\n",
       "    <tr>\n",
       "      <th>0</th>\n",
       "      <td>60077</td>\n",
       "      <td>other</td>\n",
       "      <td>602</td>\n",
       "      <td>4852.220341</td>\n",
       "      <td>22237.0</td>\n",
       "      <td>1.131676e+07</td>\n",
       "      <td>2011</td>\n",
       "      <td>4.582850</td>\n",
       "      <td>2332.284205</td>\n",
       "    </tr>\n",
       "    <tr>\n",
       "      <th>1</th>\n",
       "      <td>60073</td>\n",
       "      <td>other</td>\n",
       "      <td>606</td>\n",
       "      <td>13789.949661</td>\n",
       "      <td>88372.0</td>\n",
       "      <td>2.603446e+07</td>\n",
       "      <td>2009</td>\n",
       "      <td>6.408435</td>\n",
       "      <td>1887.929750</td>\n",
       "    </tr>\n",
       "    <tr>\n",
       "      <th>2</th>\n",
       "      <td>60065</td>\n",
       "      <td>other</td>\n",
       "      <td>601</td>\n",
       "      <td>15609.687991</td>\n",
       "      <td>188836.0</td>\n",
       "      <td>6.905362e+07</td>\n",
       "      <td>2005</td>\n",
       "      <td>12.097359</td>\n",
       "      <td>4423.767000</td>\n",
       "    </tr>\n",
       "    <tr>\n",
       "      <th>3</th>\n",
       "      <td>60219</td>\n",
       "      <td>Stand_Alone</td>\n",
       "      <td>601</td>\n",
       "      <td>6845.497058</td>\n",
       "      <td>96733.0</td>\n",
       "      <td>2.519873e+07</td>\n",
       "      <td>2014</td>\n",
       "      <td>14.130895</td>\n",
       "      <td>3681.066083</td>\n",
       "    </tr>\n",
       "    <tr>\n",
       "      <th>4</th>\n",
       "      <td>60071</td>\n",
       "      <td>other</td>\n",
       "      <td>605</td>\n",
       "      <td>12385.047461</td>\n",
       "      <td>70456.0</td>\n",
       "      <td>4.621496e+07</td>\n",
       "      <td>2006</td>\n",
       "      <td>5.688795</td>\n",
       "      <td>3731.512206</td>\n",
       "    </tr>\n",
       "    <tr>\n",
       "      <th>5</th>\n",
       "      <td>60063</td>\n",
       "      <td>other</td>\n",
       "      <td>604</td>\n",
       "      <td>4579.081667</td>\n",
       "      <td>82294.0</td>\n",
       "      <td>6.122596e+07</td>\n",
       "      <td>2009</td>\n",
       "      <td>17.971726</td>\n",
       "      <td>13370.794192</td>\n",
       "    </tr>\n",
       "    <tr>\n",
       "      <th>6</th>\n",
       "      <td>60075</td>\n",
       "      <td>other</td>\n",
       "      <td>606</td>\n",
       "      <td>9582.354867</td>\n",
       "      <td>113795.0</td>\n",
       "      <td>4.717905e+07</td>\n",
       "      <td>2011</td>\n",
       "      <td>11.875473</td>\n",
       "      <td>4923.534274</td>\n",
       "    </tr>\n",
       "    <tr>\n",
       "      <th>7</th>\n",
       "      <td>60055</td>\n",
       "      <td>other</td>\n",
       "      <td>603</td>\n",
       "      <td>10085.472996</td>\n",
       "      <td>78460.0</td>\n",
       "      <td>4.234905e+07</td>\n",
       "      <td>2008</td>\n",
       "      <td>7.779506</td>\n",
       "      <td>4199.014970</td>\n",
       "    </tr>\n",
       "    <tr>\n",
       "      <th>8</th>\n",
       "      <td>60066</td>\n",
       "      <td>other</td>\n",
       "      <td>601</td>\n",
       "      <td>15897.142270</td>\n",
       "      <td>79249.0</td>\n",
       "      <td>2.769316e+07</td>\n",
       "      <td>2012</td>\n",
       "      <td>4.985110</td>\n",
       "      <td>1742.021565</td>\n",
       "    </tr>\n",
       "    <tr>\n",
       "      <th>9</th>\n",
       "      <td>60067</td>\n",
       "      <td>other</td>\n",
       "      <td>602</td>\n",
       "      <td>8673.534535</td>\n",
       "      <td>89351.0</td>\n",
       "      <td>3.535087e+07</td>\n",
       "      <td>2011</td>\n",
       "      <td>10.301567</td>\n",
       "      <td>4075.716571</td>\n",
       "    </tr>\n",
       "    <tr>\n",
       "      <th>10</th>\n",
       "      <td>60241</td>\n",
       "      <td>Mall_Stores</td>\n",
       "      <td>601</td>\n",
       "      <td>2708.813317</td>\n",
       "      <td>67296.0</td>\n",
       "      <td>7.681839e+06</td>\n",
       "      <td>2015</td>\n",
       "      <td>24.843351</td>\n",
       "      <td>2835.868881</td>\n",
       "    </tr>\n",
       "    <tr>\n",
       "      <th>11</th>\n",
       "      <td>60070</td>\n",
       "      <td>other</td>\n",
       "      <td>601</td>\n",
       "      <td>19003.694395</td>\n",
       "      <td>134430.0</td>\n",
       "      <td>6.927847e+07</td>\n",
       "      <td>2009</td>\n",
       "      <td>7.073888</td>\n",
       "      <td>3645.526471</td>\n",
       "    </tr>\n",
       "    <tr>\n",
       "      <th>12</th>\n",
       "      <td>60062</td>\n",
       "      <td>other</td>\n",
       "      <td>601</td>\n",
       "      <td>6093.498908</td>\n",
       "      <td>88496.0</td>\n",
       "      <td>1.578919e+07</td>\n",
       "      <td>2012</td>\n",
       "      <td>14.523019</td>\n",
       "      <td>2591.153482</td>\n",
       "    </tr>\n",
       "    <tr>\n",
       "      <th>13</th>\n",
       "      <td>60072</td>\n",
       "      <td>other</td>\n",
       "      <td>605</td>\n",
       "      <td>4189.720206</td>\n",
       "      <td>63174.0</td>\n",
       "      <td>4.107923e+07</td>\n",
       "      <td>2010</td>\n",
       "      <td>15.078334</td>\n",
       "      <td>9804.767931</td>\n",
       "    </tr>\n",
       "    <tr>\n",
       "      <th>14</th>\n",
       "      <td>60058</td>\n",
       "      <td>other</td>\n",
       "      <td>602</td>\n",
       "      <td>8792.292763</td>\n",
       "      <td>80204.0</td>\n",
       "      <td>4.088288e+07</td>\n",
       "      <td>2011</td>\n",
       "      <td>9.122080</td>\n",
       "      <td>4649.854208</td>\n",
       "    </tr>\n",
       "    <tr>\n",
       "      <th>15</th>\n",
       "      <td>60074</td>\n",
       "      <td>other</td>\n",
       "      <td>606</td>\n",
       "      <td>3467.799125</td>\n",
       "      <td>137253.0</td>\n",
       "      <td>5.472770e+07</td>\n",
       "      <td>2004</td>\n",
       "      <td>39.579282</td>\n",
       "      <td>15781.680615</td>\n",
       "    </tr>\n",
       "    <tr>\n",
       "      <th>16</th>\n",
       "      <td>60064</td>\n",
       "      <td>other</td>\n",
       "      <td>604</td>\n",
       "      <td>8162.046109</td>\n",
       "      <td>80632.0</td>\n",
       "      <td>4.032319e+07</td>\n",
       "      <td>2012</td>\n",
       "      <td>9.878895</td>\n",
       "      <td>4940.328221</td>\n",
       "    </tr>\n",
       "    <tr>\n",
       "      <th>17</th>\n",
       "      <td>60076</td>\n",
       "      <td>other</td>\n",
       "      <td>606</td>\n",
       "      <td>93125.240189</td>\n",
       "      <td>165012.0</td>\n",
       "      <td>4.713209e+07</td>\n",
       "      <td>2012</td>\n",
       "      <td>1.771936</td>\n",
       "      <td>506.115108</td>\n",
       "    </tr>\n",
       "    <tr>\n",
       "      <th>18</th>\n",
       "      <td>60069</td>\n",
       "      <td>other</td>\n",
       "      <td>602</td>\n",
       "      <td>6698.117964</td>\n",
       "      <td>114246.0</td>\n",
       "      <td>3.771237e+07</td>\n",
       "      <td>2011</td>\n",
       "      <td>17.056433</td>\n",
       "      <td>5630.293449</td>\n",
       "    </tr>\n",
       "    <tr>\n",
       "      <th>19</th>\n",
       "      <td>60079</td>\n",
       "      <td>Stand_Alone</td>\n",
       "      <td>602</td>\n",
       "      <td>3699.470014</td>\n",
       "      <td>54832.0</td>\n",
       "      <td>2.481689e+07</td>\n",
       "      <td>2013</td>\n",
       "      <td>14.821582</td>\n",
       "      <td>6708.227424</td>\n",
       "    </tr>\n",
       "    <tr>\n",
       "      <th>20</th>\n",
       "      <td>60059</td>\n",
       "      <td>other</td>\n",
       "      <td>601</td>\n",
       "      <td>9654.989644</td>\n",
       "      <td>140183.0</td>\n",
       "      <td>4.270313e+07</td>\n",
       "      <td>2004</td>\n",
       "      <td>14.519228</td>\n",
       "      <td>4422.908058</td>\n",
       "    </tr>\n",
       "    <tr>\n",
       "      <th>21</th>\n",
       "      <td>60086</td>\n",
       "      <td>Mall_Stores</td>\n",
       "      <td>601</td>\n",
       "      <td>12950.629513</td>\n",
       "      <td>192764.0</td>\n",
       "      <td>5.278666e+07</td>\n",
       "      <td>2013</td>\n",
       "      <td>14.884527</td>\n",
       "      <td>4075.991669</td>\n",
       "    </tr>\n",
       "    <tr>\n",
       "      <th>22</th>\n",
       "      <td>60060</td>\n",
       "      <td>other</td>\n",
       "      <td>601</td>\n",
       "      <td>8317.736752</td>\n",
       "      <td>84415.0</td>\n",
       "      <td>4.505545e+07</td>\n",
       "      <td>2004</td>\n",
       "      <td>10.148794</td>\n",
       "      <td>5416.792196</td>\n",
       "    </tr>\n",
       "    <tr>\n",
       "      <th>23</th>\n",
       "      <td>60233</td>\n",
       "      <td>Mall_Stores</td>\n",
       "      <td>602</td>\n",
       "      <td>16455.386430</td>\n",
       "      <td>75505.0</td>\n",
       "      <td>2.175222e+07</td>\n",
       "      <td>2014</td>\n",
       "      <td>4.588467</td>\n",
       "      <td>1321.890487</td>\n",
       "    </tr>\n",
       "    <tr>\n",
       "      <th>24</th>\n",
       "      <td>60068</td>\n",
       "      <td>other</td>\n",
       "      <td>601</td>\n",
       "      <td>23368.665000</td>\n",
       "      <td>231790.0</td>\n",
       "      <td>9.281707e+07</td>\n",
       "      <td>2010</td>\n",
       "      <td>9.918838</td>\n",
       "      <td>3971.860355</td>\n",
       "    </tr>\n",
       "    <tr>\n",
       "      <th>25</th>\n",
       "      <td>60250</td>\n",
       "      <td>Mall_Stores</td>\n",
       "      <td>601</td>\n",
       "      <td>7846.686536</td>\n",
       "      <td>45197.0</td>\n",
       "      <td>1.609807e+07</td>\n",
       "      <td>2015</td>\n",
       "      <td>5.760011</td>\n",
       "      <td>2051.575960</td>\n",
       "    </tr>\n",
       "    <tr>\n",
       "      <th>26</th>\n",
       "      <td>60057</td>\n",
       "      <td>other</td>\n",
       "      <td>602</td>\n",
       "      <td>18277.772523</td>\n",
       "      <td>119643.0</td>\n",
       "      <td>6.428328e+07</td>\n",
       "      <td>2009</td>\n",
       "      <td>6.545820</td>\n",
       "      <td>3517.019362</td>\n",
       "    </tr>\n",
       "    <tr>\n",
       "      <th>27</th>\n",
       "      <td>60061</td>\n",
       "      <td>other</td>\n",
       "      <td>601</td>\n",
       "      <td>22866.922575</td>\n",
       "      <td>263026.0</td>\n",
       "      <td>7.851247e+07</td>\n",
       "      <td>2012</td>\n",
       "      <td>11.502466</td>\n",
       "      <td>3433.451621</td>\n",
       "    </tr>\n",
       "    <tr>\n",
       "      <th>28</th>\n",
       "      <td>60053</td>\n",
       "      <td>other</td>\n",
       "      <td>602</td>\n",
       "      <td>19200.122169</td>\n",
       "      <td>160218.0</td>\n",
       "      <td>6.436403e+07</td>\n",
       "      <td>2004</td>\n",
       "      <td>8.344634</td>\n",
       "      <td>3352.271872</td>\n",
       "    </tr>\n",
       "    <tr>\n",
       "      <th>29</th>\n",
       "      <td>60054</td>\n",
       "      <td>other</td>\n",
       "      <td>602</td>\n",
       "      <td>12425.516106</td>\n",
       "      <td>118444.0</td>\n",
       "      <td>4.370230e+07</td>\n",
       "      <td>2011</td>\n",
       "      <td>9.532320</td>\n",
       "      <td>3517.141873</td>\n",
       "    </tr>\n",
       "    <tr>\n",
       "      <th>30</th>\n",
       "      <td>60275</td>\n",
       "      <td>other</td>\n",
       "      <td>602</td>\n",
       "      <td>2178.431368</td>\n",
       "      <td>13669.0</td>\n",
       "      <td>5.271267e+06</td>\n",
       "      <td>2017</td>\n",
       "      <td>6.274698</td>\n",
       "      <td>2419.753433</td>\n",
       "    </tr>\n",
       "    <tr>\n",
       "      <th>31</th>\n",
       "      <td>60301</td>\n",
       "      <td>Mall_Stores</td>\n",
       "      <td>602</td>\n",
       "      <td>23288.338616</td>\n",
       "      <td>NaN</td>\n",
       "      <td>7.472375e+06</td>\n",
       "      <td>2018</td>\n",
       "      <td>NaN</td>\n",
       "      <td>320.863359</td>\n",
       "    </tr>\n",
       "    <tr>\n",
       "      <th>32</th>\n",
       "      <td>60298</td>\n",
       "      <td>Mall_Stores</td>\n",
       "      <td>606</td>\n",
       "      <td>8391.589347</td>\n",
       "      <td>NaN</td>\n",
       "      <td>2.820486e+06</td>\n",
       "      <td>2018</td>\n",
       "      <td>NaN</td>\n",
       "      <td>336.108661</td>\n",
       "    </tr>\n",
       "    <tr>\n",
       "      <th>33</th>\n",
       "      <td>60300</td>\n",
       "      <td>Mall_Stores</td>\n",
       "      <td>602</td>\n",
       "      <td>6604.762130</td>\n",
       "      <td>NaN</td>\n",
       "      <td>2.701914e+06</td>\n",
       "      <td>2018</td>\n",
       "      <td>NaN</td>\n",
       "      <td>409.085682</td>\n",
       "    </tr>\n",
       "    <tr>\n",
       "      <th>34</th>\n",
       "      <td>60299</td>\n",
       "      <td>Mall_Stores</td>\n",
       "      <td>602</td>\n",
       "      <td>3266.388547</td>\n",
       "      <td>NaN</td>\n",
       "      <td>4.796778e+05</td>\n",
       "      <td>2018</td>\n",
       "      <td>NaN</td>\n",
       "      <td>146.852643</td>\n",
       "    </tr>\n",
       "  </tbody>\n",
       "</table>\n",
       "</div>"
      ],
      "text/plain": [
       "    Store_Code Store_Format  Region_Code  Store_Size_Sq_Ft  Customer_Count  \\\n",
       "0        60077        other          602       4852.220341         22237.0   \n",
       "1        60073        other          606      13789.949661         88372.0   \n",
       "2        60065        other          601      15609.687991        188836.0   \n",
       "3        60219  Stand_Alone          601       6845.497058         96733.0   \n",
       "4        60071        other          605      12385.047461         70456.0   \n",
       "5        60063        other          604       4579.081667         82294.0   \n",
       "6        60075        other          606       9582.354867        113795.0   \n",
       "7        60055        other          603      10085.472996         78460.0   \n",
       "8        60066        other          601      15897.142270         79249.0   \n",
       "9        60067        other          602       8673.534535         89351.0   \n",
       "10       60241  Mall_Stores          601       2708.813317         67296.0   \n",
       "11       60070        other          601      19003.694395        134430.0   \n",
       "12       60062        other          601       6093.498908         88496.0   \n",
       "13       60072        other          605       4189.720206         63174.0   \n",
       "14       60058        other          602       8792.292763         80204.0   \n",
       "15       60074        other          606       3467.799125        137253.0   \n",
       "16       60064        other          604       8162.046109         80632.0   \n",
       "17       60076        other          606      93125.240189        165012.0   \n",
       "18       60069        other          602       6698.117964        114246.0   \n",
       "19       60079  Stand_Alone          602       3699.470014         54832.0   \n",
       "20       60059        other          601       9654.989644        140183.0   \n",
       "21       60086  Mall_Stores          601      12950.629513        192764.0   \n",
       "22       60060        other          601       8317.736752         84415.0   \n",
       "23       60233  Mall_Stores          602      16455.386430         75505.0   \n",
       "24       60068        other          601      23368.665000        231790.0   \n",
       "25       60250  Mall_Stores          601       7846.686536         45197.0   \n",
       "26       60057        other          602      18277.772523        119643.0   \n",
       "27       60061        other          601      22866.922575        263026.0   \n",
       "28       60053        other          602      19200.122169        160218.0   \n",
       "29       60054        other          602      12425.516106        118444.0   \n",
       "30       60275        other          602       2178.431368         13669.0   \n",
       "31       60301  Mall_Stores          602      23288.338616             NaN   \n",
       "32       60298  Mall_Stores          606       8391.589347             NaN   \n",
       "33       60300  Mall_Stores          602       6604.762130             NaN   \n",
       "34       60299  Mall_Stores          602       3266.388547             NaN   \n",
       "\n",
       "    Total_Revenue  launch_year  ff_per_sqft  rev_per_sqft  \n",
       "0    1.131676e+07         2011     4.582850   2332.284205  \n",
       "1    2.603446e+07         2009     6.408435   1887.929750  \n",
       "2    6.905362e+07         2005    12.097359   4423.767000  \n",
       "3    2.519873e+07         2014    14.130895   3681.066083  \n",
       "4    4.621496e+07         2006     5.688795   3731.512206  \n",
       "5    6.122596e+07         2009    17.971726  13370.794192  \n",
       "6    4.717905e+07         2011    11.875473   4923.534274  \n",
       "7    4.234905e+07         2008     7.779506   4199.014970  \n",
       "8    2.769316e+07         2012     4.985110   1742.021565  \n",
       "9    3.535087e+07         2011    10.301567   4075.716571  \n",
       "10   7.681839e+06         2015    24.843351   2835.868881  \n",
       "11   6.927847e+07         2009     7.073888   3645.526471  \n",
       "12   1.578919e+07         2012    14.523019   2591.153482  \n",
       "13   4.107923e+07         2010    15.078334   9804.767931  \n",
       "14   4.088288e+07         2011     9.122080   4649.854208  \n",
       "15   5.472770e+07         2004    39.579282  15781.680615  \n",
       "16   4.032319e+07         2012     9.878895   4940.328221  \n",
       "17   4.713209e+07         2012     1.771936    506.115108  \n",
       "18   3.771237e+07         2011    17.056433   5630.293449  \n",
       "19   2.481689e+07         2013    14.821582   6708.227424  \n",
       "20   4.270313e+07         2004    14.519228   4422.908058  \n",
       "21   5.278666e+07         2013    14.884527   4075.991669  \n",
       "22   4.505545e+07         2004    10.148794   5416.792196  \n",
       "23   2.175222e+07         2014     4.588467   1321.890487  \n",
       "24   9.281707e+07         2010     9.918838   3971.860355  \n",
       "25   1.609807e+07         2015     5.760011   2051.575960  \n",
       "26   6.428328e+07         2009     6.545820   3517.019362  \n",
       "27   7.851247e+07         2012    11.502466   3433.451621  \n",
       "28   6.436403e+07         2004     8.344634   3352.271872  \n",
       "29   4.370230e+07         2011     9.532320   3517.141873  \n",
       "30   5.271267e+06         2017     6.274698   2419.753433  \n",
       "31   7.472375e+06         2018          NaN    320.863359  \n",
       "32   2.820486e+06         2018          NaN    336.108661  \n",
       "33   2.701914e+06         2018          NaN    409.085682  \n",
       "34   4.796778e+05         2018          NaN    146.852643  "
      ]
     },
     "execution_count": 171,
     "metadata": {},
     "output_type": "execute_result"
    }
   ],
   "source": [
    "store_info_final"
   ]
  },
  {
   "cell_type": "code",
   "execution_count": 155,
   "metadata": {
    "collapsed": true
   },
   "outputs": [],
   "source": [
    "store_info_final_dumm=pd.get_dummies(store_info_final, columns=['Store_Format','Region_Code'])"
   ]
  },
  {
   "cell_type": "markdown",
   "metadata": {},
   "source": [
    "### Cust Trans"
   ]
  },
  {
   "cell_type": "code",
   "execution_count": 8,
   "metadata": {
    "collapsed": true
   },
   "outputs": [],
   "source": [
    "cust_trans=pd.read_excel('./Data/Customer_Transaction.xlsx')"
   ]
  },
  {
   "cell_type": "code",
   "execution_count": 9,
   "metadata": {
    "collapsed": false
   },
   "outputs": [
    {
     "data": {
      "text/html": [
       "<div>\n",
       "<table border=\"1\" class=\"dataframe\">\n",
       "  <thead>\n",
       "    <tr style=\"text-align: right;\">\n",
       "      <th></th>\n",
       "      <th>Territory</th>\n",
       "      <th>Business</th>\n",
       "      <th>Year</th>\n",
       "      <th>Week</th>\n",
       "      <th>Store_Code</th>\n",
       "      <th>City_Name</th>\n",
       "      <th>Store_Type</th>\n",
       "      <th>Transaction_Type</th>\n",
       "      <th>Return_Reason</th>\n",
       "      <th>Customer_ID</th>\n",
       "      <th>Invoices</th>\n",
       "      <th>Item_Count</th>\n",
       "      <th>Revenue</th>\n",
       "      <th>Discount</th>\n",
       "      <th>Units_Sold</th>\n",
       "    </tr>\n",
       "  </thead>\n",
       "  <tbody>\n",
       "    <tr>\n",
       "      <th>0</th>\n",
       "      <td>United Arab Emirates</td>\n",
       "      <td>Max</td>\n",
       "      <td>2010</td>\n",
       "      <td>0</td>\n",
       "      <td>60065</td>\n",
       "      <td>Dubai</td>\n",
       "      <td>Stand alone</td>\n",
       "      <td>Return</td>\n",
       "      <td>Size Problem</td>\n",
       "      <td>1800000058056860</td>\n",
       "      <td>1</td>\n",
       "      <td>3</td>\n",
       "      <td>-169.0</td>\n",
       "      <td>0.0</td>\n",
       "      <td>-3</td>\n",
       "    </tr>\n",
       "    <tr>\n",
       "      <th>1</th>\n",
       "      <td>United Arab Emirates</td>\n",
       "      <td>Max</td>\n",
       "      <td>2016</td>\n",
       "      <td>0</td>\n",
       "      <td>60053</td>\n",
       "      <td>NaN</td>\n",
       "      <td>NaN</td>\n",
       "      <td>Purchase</td>\n",
       "      <td>NaN</td>\n",
       "      <td>1800000020917140</td>\n",
       "      <td>1</td>\n",
       "      <td>1</td>\n",
       "      <td>0.0</td>\n",
       "      <td>0.0</td>\n",
       "      <td>0</td>\n",
       "    </tr>\n",
       "    <tr>\n",
       "      <th>2</th>\n",
       "      <td>United Arab Emirates</td>\n",
       "      <td>Max</td>\n",
       "      <td>2016</td>\n",
       "      <td>0</td>\n",
       "      <td>60053</td>\n",
       "      <td>NaN</td>\n",
       "      <td>NaN</td>\n",
       "      <td>Purchase</td>\n",
       "      <td>NaN</td>\n",
       "      <td>1800000021265010</td>\n",
       "      <td>1</td>\n",
       "      <td>1</td>\n",
       "      <td>0.0</td>\n",
       "      <td>0.0</td>\n",
       "      <td>0</td>\n",
       "    </tr>\n",
       "    <tr>\n",
       "      <th>3</th>\n",
       "      <td>United Arab Emirates</td>\n",
       "      <td>Max</td>\n",
       "      <td>2016</td>\n",
       "      <td>0</td>\n",
       "      <td>60053</td>\n",
       "      <td>NaN</td>\n",
       "      <td>NaN</td>\n",
       "      <td>Purchase</td>\n",
       "      <td>NaN</td>\n",
       "      <td>1800000025693950</td>\n",
       "      <td>1</td>\n",
       "      <td>4</td>\n",
       "      <td>0.0</td>\n",
       "      <td>0.0</td>\n",
       "      <td>0</td>\n",
       "    </tr>\n",
       "    <tr>\n",
       "      <th>4</th>\n",
       "      <td>United Arab Emirates</td>\n",
       "      <td>Max</td>\n",
       "      <td>2016</td>\n",
       "      <td>0</td>\n",
       "      <td>60053</td>\n",
       "      <td>NaN</td>\n",
       "      <td>NaN</td>\n",
       "      <td>Purchase</td>\n",
       "      <td>NaN</td>\n",
       "      <td>1800000044104620</td>\n",
       "      <td>1</td>\n",
       "      <td>1</td>\n",
       "      <td>0.0</td>\n",
       "      <td>0.0</td>\n",
       "      <td>0</td>\n",
       "    </tr>\n",
       "  </tbody>\n",
       "</table>\n",
       "</div>"
      ],
      "text/plain": [
       "              Territory Business  Year  Week  Store_Code City_Name  \\\n",
       "0  United Arab Emirates      Max  2010     0       60065     Dubai   \n",
       "1  United Arab Emirates      Max  2016     0       60053       NaN   \n",
       "2  United Arab Emirates      Max  2016     0       60053       NaN   \n",
       "3  United Arab Emirates      Max  2016     0       60053       NaN   \n",
       "4  United Arab Emirates      Max  2016     0       60053       NaN   \n",
       "\n",
       "    Store_Type Transaction_Type Return_Reason       Customer_ID  Invoices  \\\n",
       "0  Stand alone           Return  Size Problem  1800000058056860         1   \n",
       "1          NaN         Purchase           NaN  1800000020917140         1   \n",
       "2          NaN         Purchase           NaN  1800000021265010         1   \n",
       "3          NaN         Purchase           NaN  1800000025693950         1   \n",
       "4          NaN         Purchase           NaN  1800000044104620         1   \n",
       "\n",
       "   Item_Count  Revenue  Discount  Units_Sold  \n",
       "0           3   -169.0       0.0          -3  \n",
       "1           1      0.0       0.0           0  \n",
       "2           1      0.0       0.0           0  \n",
       "3           4      0.0       0.0           0  \n",
       "4           1      0.0       0.0           0  "
      ]
     },
     "execution_count": 9,
     "metadata": {},
     "output_type": "execute_result"
    }
   ],
   "source": [
    "cust_trans.head()"
   ]
  },
  {
   "cell_type": "code",
   "execution_count": 17,
   "metadata": {
    "collapsed": false
   },
   "outputs": [],
   "source": [
    "cust_trans_filt=cust_trans[(cust_trans.Year==2016) | (cust_trans.Year==2017)]"
   ]
  },
  {
   "cell_type": "code",
   "execution_count": 33,
   "metadata": {
    "collapsed": true
   },
   "outputs": [],
   "source": [
    "cust_trans_pre=cust_trans_filt[cust_trans_filt.Year==2016]"
   ]
  },
  {
   "cell_type": "code",
   "execution_count": 34,
   "metadata": {
    "collapsed": true
   },
   "outputs": [],
   "source": [
    "cust_trans_post=cust_trans_filt[cust_trans_filt.Year==2017]"
   ]
  },
  {
   "cell_type": "markdown",
   "metadata": {},
   "source": [
    "## Pre Dataset Prep"
   ]
  },
  {
   "cell_type": "code",
   "execution_count": 39,
   "metadata": {
    "collapsed": false
   },
   "outputs": [],
   "source": [
    "#cust_trans_filt_grouped=\n",
    "cust_trans_pre_grouped=cust_trans_pre.groupby(['Customer_ID','Store_Code']).agg({'Week': lambda x: x.nunique(),\n",
    "                                                           'Invoices': np.sum, \n",
    "                                                           'Item_Count': np.sum, \n",
    "                                                           'Revenue': np.sum,\n",
    "                                                           'Discount': np.sum,\n",
    "                                                           'Units_Sold': np.sum\n",
    "                                                          })\n",
    "\n",
    "#cust_trans_pre_grouped = cust_trans_pre_grouped.to_frame()\n",
    "cust_trans_pre_grouped = cust_trans_pre_grouped.reset_index(level=['Customer_ID','Store_Code'])"
   ]
  },
  {
   "cell_type": "code",
   "execution_count": 40,
   "metadata": {
    "collapsed": false
   },
   "outputs": [
    {
     "data": {
      "text/html": [
       "<div>\n",
       "<table border=\"1\" class=\"dataframe\">\n",
       "  <thead>\n",
       "    <tr style=\"text-align: right;\">\n",
       "      <th></th>\n",
       "      <th>Customer_ID</th>\n",
       "      <th>Store_Code</th>\n",
       "      <th>Week</th>\n",
       "      <th>Revenue</th>\n",
       "      <th>Invoices</th>\n",
       "      <th>Item_Count</th>\n",
       "      <th>Discount</th>\n",
       "      <th>Units_Sold</th>\n",
       "    </tr>\n",
       "  </thead>\n",
       "  <tbody>\n",
       "    <tr>\n",
       "      <th>0</th>\n",
       "      <td>1800000006365760</td>\n",
       "      <td>60067</td>\n",
       "      <td>2</td>\n",
       "      <td>917.0</td>\n",
       "      <td>3</td>\n",
       "      <td>29</td>\n",
       "      <td>47.0</td>\n",
       "      <td>31</td>\n",
       "    </tr>\n",
       "    <tr>\n",
       "      <th>1</th>\n",
       "      <td>1800000006365820</td>\n",
       "      <td>60054</td>\n",
       "      <td>1</td>\n",
       "      <td>260.0</td>\n",
       "      <td>1</td>\n",
       "      <td>6</td>\n",
       "      <td>92.0</td>\n",
       "      <td>6</td>\n",
       "    </tr>\n",
       "    <tr>\n",
       "      <th>2</th>\n",
       "      <td>1800000006366060</td>\n",
       "      <td>60066</td>\n",
       "      <td>1</td>\n",
       "      <td>188.0</td>\n",
       "      <td>1</td>\n",
       "      <td>10</td>\n",
       "      <td>3.0</td>\n",
       "      <td>15</td>\n",
       "    </tr>\n",
       "    <tr>\n",
       "      <th>3</th>\n",
       "      <td>1800000006366060</td>\n",
       "      <td>60069</td>\n",
       "      <td>1</td>\n",
       "      <td>102.0</td>\n",
       "      <td>1</td>\n",
       "      <td>3</td>\n",
       "      <td>45.0</td>\n",
       "      <td>3</td>\n",
       "    </tr>\n",
       "    <tr>\n",
       "      <th>4</th>\n",
       "      <td>1800000006366060</td>\n",
       "      <td>60079</td>\n",
       "      <td>2</td>\n",
       "      <td>166.0</td>\n",
       "      <td>3</td>\n",
       "      <td>6</td>\n",
       "      <td>60.0</td>\n",
       "      <td>6</td>\n",
       "    </tr>\n",
       "  </tbody>\n",
       "</table>\n",
       "</div>"
      ],
      "text/plain": [
       "        Customer_ID  Store_Code  Week  Revenue  Invoices  Item_Count  \\\n",
       "0  1800000006365760       60067     2    917.0         3          29   \n",
       "1  1800000006365820       60054     1    260.0         1           6   \n",
       "2  1800000006366060       60066     1    188.0         1          10   \n",
       "3  1800000006366060       60069     1    102.0         1           3   \n",
       "4  1800000006366060       60079     2    166.0         3           6   \n",
       "\n",
       "   Discount  Units_Sold  \n",
       "0      47.0          31  \n",
       "1      92.0           6  \n",
       "2       3.0          15  \n",
       "3      45.0           3  \n",
       "4      60.0           6  "
      ]
     },
     "execution_count": 40,
     "metadata": {},
     "output_type": "execute_result"
    }
   ],
   "source": [
    "cust_trans_pre_grouped.head()"
   ]
  },
  {
   "cell_type": "code",
   "execution_count": 159,
   "metadata": {
    "collapsed": true
   },
   "outputs": [],
   "source": [
    "df1=pd.merge(cust_trans_pre_grouped,cust_demogs_final_dummies,how='inner',left_on=['Customer_ID'],right_on=['Customer_ID'])"
   ]
  },
  {
   "cell_type": "code",
   "execution_count": 161,
   "metadata": {
    "collapsed": false
   },
   "outputs": [],
   "source": [
    "df2=pd.merge(df1,store_info_final_dumm,how='inner',left_on=['Store_Code'],right_on=['Store_Code'])"
   ]
  },
  {
   "cell_type": "code",
   "execution_count": 162,
   "metadata": {
    "collapsed": false
   },
   "outputs": [
    {
     "data": {
      "text/html": [
       "<div>\n",
       "<table border=\"1\" class=\"dataframe\">\n",
       "  <thead>\n",
       "    <tr style=\"text-align: right;\">\n",
       "      <th></th>\n",
       "      <th>Customer_ID</th>\n",
       "      <th>Store_Code</th>\n",
       "      <th>Week</th>\n",
       "      <th>Revenue</th>\n",
       "      <th>Invoices</th>\n",
       "      <th>Item_Count</th>\n",
       "      <th>Discount</th>\n",
       "      <th>Units_Sold</th>\n",
       "      <th>Age_new</th>\n",
       "      <th>Points</th>\n",
       "      <th>...</th>\n",
       "      <th>rev_per_sqft</th>\n",
       "      <th>Store_Format_Mall_Stores</th>\n",
       "      <th>Store_Format_Stand_Alone</th>\n",
       "      <th>Store_Format_other</th>\n",
       "      <th>Region_Code_601</th>\n",
       "      <th>Region_Code_602</th>\n",
       "      <th>Region_Code_603</th>\n",
       "      <th>Region_Code_604</th>\n",
       "      <th>Region_Code_605</th>\n",
       "      <th>Region_Code_606</th>\n",
       "    </tr>\n",
       "  </thead>\n",
       "  <tbody>\n",
       "    <tr>\n",
       "      <th>0</th>\n",
       "      <td>1800000006365760</td>\n",
       "      <td>60067</td>\n",
       "      <td>2</td>\n",
       "      <td>917.0</td>\n",
       "      <td>3</td>\n",
       "      <td>29</td>\n",
       "      <td>47.0</td>\n",
       "      <td>31</td>\n",
       "      <td>59.0</td>\n",
       "      <td>814.0</td>\n",
       "      <td>...</td>\n",
       "      <td>4075.716571</td>\n",
       "      <td>0.0</td>\n",
       "      <td>0.0</td>\n",
       "      <td>1.0</td>\n",
       "      <td>0.0</td>\n",
       "      <td>1.0</td>\n",
       "      <td>0.0</td>\n",
       "      <td>0.0</td>\n",
       "      <td>0.0</td>\n",
       "      <td>0.0</td>\n",
       "    </tr>\n",
       "    <tr>\n",
       "      <th>1</th>\n",
       "      <td>1800000006366230</td>\n",
       "      <td>60067</td>\n",
       "      <td>1</td>\n",
       "      <td>151.0</td>\n",
       "      <td>1</td>\n",
       "      <td>8</td>\n",
       "      <td>10.0</td>\n",
       "      <td>9</td>\n",
       "      <td>56.0</td>\n",
       "      <td>126.0</td>\n",
       "      <td>...</td>\n",
       "      <td>4075.716571</td>\n",
       "      <td>0.0</td>\n",
       "      <td>0.0</td>\n",
       "      <td>1.0</td>\n",
       "      <td>0.0</td>\n",
       "      <td>1.0</td>\n",
       "      <td>0.0</td>\n",
       "      <td>0.0</td>\n",
       "      <td>0.0</td>\n",
       "      <td>0.0</td>\n",
       "    </tr>\n",
       "    <tr>\n",
       "      <th>2</th>\n",
       "      <td>1800000006368610</td>\n",
       "      <td>60067</td>\n",
       "      <td>4</td>\n",
       "      <td>415.0</td>\n",
       "      <td>9</td>\n",
       "      <td>32</td>\n",
       "      <td>543.0</td>\n",
       "      <td>26</td>\n",
       "      <td>47.0</td>\n",
       "      <td>122.0</td>\n",
       "      <td>...</td>\n",
       "      <td>4075.716571</td>\n",
       "      <td>0.0</td>\n",
       "      <td>0.0</td>\n",
       "      <td>1.0</td>\n",
       "      <td>0.0</td>\n",
       "      <td>1.0</td>\n",
       "      <td>0.0</td>\n",
       "      <td>0.0</td>\n",
       "      <td>0.0</td>\n",
       "      <td>0.0</td>\n",
       "    </tr>\n",
       "    <tr>\n",
       "      <th>3</th>\n",
       "      <td>1800000006368940</td>\n",
       "      <td>60067</td>\n",
       "      <td>4</td>\n",
       "      <td>413.0</td>\n",
       "      <td>4</td>\n",
       "      <td>16</td>\n",
       "      <td>58.0</td>\n",
       "      <td>16</td>\n",
       "      <td>55.0</td>\n",
       "      <td>597.0</td>\n",
       "      <td>...</td>\n",
       "      <td>4075.716571</td>\n",
       "      <td>0.0</td>\n",
       "      <td>0.0</td>\n",
       "      <td>1.0</td>\n",
       "      <td>0.0</td>\n",
       "      <td>1.0</td>\n",
       "      <td>0.0</td>\n",
       "      <td>0.0</td>\n",
       "      <td>0.0</td>\n",
       "      <td>0.0</td>\n",
       "    </tr>\n",
       "    <tr>\n",
       "      <th>4</th>\n",
       "      <td>1800000006369560</td>\n",
       "      <td>60067</td>\n",
       "      <td>2</td>\n",
       "      <td>216.0</td>\n",
       "      <td>2</td>\n",
       "      <td>6</td>\n",
       "      <td>46.0</td>\n",
       "      <td>7</td>\n",
       "      <td>35.0</td>\n",
       "      <td>163.0</td>\n",
       "      <td>...</td>\n",
       "      <td>4075.716571</td>\n",
       "      <td>0.0</td>\n",
       "      <td>0.0</td>\n",
       "      <td>1.0</td>\n",
       "      <td>0.0</td>\n",
       "      <td>1.0</td>\n",
       "      <td>0.0</td>\n",
       "      <td>0.0</td>\n",
       "      <td>0.0</td>\n",
       "      <td>0.0</td>\n",
       "    </tr>\n",
       "  </tbody>\n",
       "</table>\n",
       "<p>5 rows × 81 columns</p>\n",
       "</div>"
      ],
      "text/plain": [
       "        Customer_ID  Store_Code  Week  Revenue  Invoices  Item_Count  \\\n",
       "0  1800000006365760       60067     2    917.0         3          29   \n",
       "1  1800000006366230       60067     1    151.0         1           8   \n",
       "2  1800000006368610       60067     4    415.0         9          32   \n",
       "3  1800000006368940       60067     4    413.0         4          16   \n",
       "4  1800000006369560       60067     2    216.0         2           6   \n",
       "\n",
       "   Discount  Units_Sold  Age_new  Points       ...         rev_per_sqft  \\\n",
       "0      47.0          31     59.0   814.0       ...          4075.716571   \n",
       "1      10.0           9     56.0   126.0       ...          4075.716571   \n",
       "2     543.0          26     47.0   122.0       ...          4075.716571   \n",
       "3      58.0          16     55.0   597.0       ...          4075.716571   \n",
       "4      46.0           7     35.0   163.0       ...          4075.716571   \n",
       "\n",
       "   Store_Format_Mall_Stores  Store_Format_Stand_Alone  Store_Format_other  \\\n",
       "0                       0.0                       0.0                 1.0   \n",
       "1                       0.0                       0.0                 1.0   \n",
       "2                       0.0                       0.0                 1.0   \n",
       "3                       0.0                       0.0                 1.0   \n",
       "4                       0.0                       0.0                 1.0   \n",
       "\n",
       "   Region_Code_601  Region_Code_602  Region_Code_603  Region_Code_604  \\\n",
       "0              0.0              1.0              0.0              0.0   \n",
       "1              0.0              1.0              0.0              0.0   \n",
       "2              0.0              1.0              0.0              0.0   \n",
       "3              0.0              1.0              0.0              0.0   \n",
       "4              0.0              1.0              0.0              0.0   \n",
       "\n",
       "   Region_Code_605  Region_Code_606  \n",
       "0              0.0              0.0  \n",
       "1              0.0              0.0  \n",
       "2              0.0              0.0  \n",
       "3              0.0              0.0  \n",
       "4              0.0              0.0  \n",
       "\n",
       "[5 rows x 81 columns]"
      ]
     },
     "execution_count": 162,
     "metadata": {},
     "output_type": "execute_result"
    }
   ],
   "source": [
    "df2.head()"
   ]
  },
  {
   "cell_type": "code",
   "execution_count": 242,
   "metadata": {
    "collapsed": false
   },
   "outputs": [
    {
     "data": {
      "text/plain": [
       "Index([                                   u'Customer_ID',\n",
       "                                           u'Store_Code',\n",
       "                                                 u'Week',\n",
       "                                              u'Revenue',\n",
       "                                             u'Invoices',\n",
       "                                           u'Item_Count',\n",
       "                                             u'Discount',\n",
       "                                           u'Units_Sold',\n",
       "                                              u'Age_new',\n",
       "                                               u'Points',\n",
       "                                      u'Transaction_age',\n",
       "                                           u'Redeem_age',\n",
       "                          u'Income_Range_10001_to_20000',\n",
       "                          u'Income_Range_20001_to_30000',\n",
       "                             u'Income_Range_30001_Above',\n",
       "                           u'Income_Range_5001_to_10000',\n",
       "                              u'Income_Range_Below_5000',\n",
       "                                 u'Income_Range_Unknown',\n",
       "                             u'Income_Range_Unspecified',\n",
       "                                  u'Job_Type_Accountant',\n",
       "                               u'Job_Type_Administartor',\n",
       "                    u'Job_Type_Chief_Execuetive_Officer',\n",
       "                                       u'Job_Type_Clerk',\n",
       "                                    u'Job_Type_Director',\n",
       "                                      u'Job_Type_Doctor',\n",
       "                                    u'Job_Type_Engineer',\n",
       "                         u'Job_Type_Housewife/Homemaker',\n",
       "                                     u'Job_Type_Manager',\n",
       "                                     u'Job_Type_Officer',\n",
       "                                      u'Job_Type_Others',\n",
       "       u'Job_Type_PREZ/SECY/TREAS_TO_CLUB/ASSOC/SOCIETY',\n",
       "                             u'Job_Type_Sales_Executive',\n",
       "                               u'Job_Type_Self_Employed',\n",
       "                                    u'Job_Type_Services',\n",
       "                                     u'Job_Type_Student',\n",
       "                                  u'Job_Type_Supervisor',\n",
       "                                  u'Job_Type_Technician',\n",
       "                                 u'Job_Type_Unspecified',\n",
       "                              u'Marital_Status_Divorsed',\n",
       "                               u'Marital_Status_Married',\n",
       "                                u'Marital_Status_Others',\n",
       "                             u'Marital_Status_Separated',\n",
       "                                u'Marital_Status_Single',\n",
       "                           u'Marital_Status_Unspecified',\n",
       "                               u'Marital_Status_Widowed',\n",
       "                                             u'Gender_F',\n",
       "                                             u'Gender_M',\n",
       "                                   u'Gender_Unspecified',\n",
       "                                      u'State_Abu Dhabi',\n",
       "                                          u'State_Ajman',\n",
       "                                        u'State_Bahrain',\n",
       "                                          u'State_Dubai',\n",
       "                                       u'State_Fujairah',\n",
       "                                    u'State_Kuwait City',\n",
       "                                         u'State_Muscat',\n",
       "                                         u'State_Others',\n",
       "                                          u'State_Qatar',\n",
       "                                 u'State_Ras Al Khaimah',\n",
       "                                        u'State_Sharjah',\n",
       "                                  u'State_Umm Al Quwain',\n",
       "                                    u'State_Unspecified',\n",
       "                                      u'Language_Arabic',\n",
       "                                     u'Language_English',\n",
       "                                 u'Language_Unspecified',\n",
       "                                  u'Loyalty_Status_Gold',\n",
       "                                u'Loyalty_Status_Silver',\n",
       "                                     u'Store_Size_Sq_Ft',\n",
       "                                       u'Customer_Count',\n",
       "                                        u'Total_Revenue',\n",
       "                                          u'launch_year',\n",
       "                                          u'ff_per_sqft',\n",
       "                                         u'rev_per_sqft',\n",
       "                             u'Store_Format_Mall_Stores',\n",
       "                             u'Store_Format_Stand_Alone',\n",
       "                                   u'Store_Format_other',\n",
       "                                      u'Region_Code_601',\n",
       "                                      u'Region_Code_602',\n",
       "                                      u'Region_Code_603',\n",
       "                                      u'Region_Code_604',\n",
       "                                      u'Region_Code_605',\n",
       "                                      u'Region_Code_606'],\n",
       "      dtype='object')"
      ]
     },
     "execution_count": 242,
     "metadata": {},
     "output_type": "execute_result"
    }
   ],
   "source": [
    "df2.columns"
   ]
  },
  {
   "cell_type": "code",
   "execution_count": 243,
   "metadata": {
    "collapsed": true
   },
   "outputs": [],
   "source": [
    "#cust_trans_filt_grouped=\n",
    "cust_trans_pre_final=df2.groupby(['Customer_ID']).agg({'Week': np.sum,\n",
    "                                                           'Invoices': np.sum, \n",
    "                                                           'Item_Count': np.sum, \n",
    "                                                           'Revenue': np.sum,\n",
    "                                                           'Discount': np.sum,\n",
    "                                                           'Units_Sold': np.sum,\n",
    "                                                       'Age_new':np.max,\n",
    "                                               'Points':np.mean,\n",
    "                                      'Transaction_age':np.max,\n",
    "                                           'Redeem_age':np.max,\n",
    "                          'Income_Range_10001_to_20000':np.max,\n",
    "                          'Income_Range_20001_to_30000':np.max,\n",
    "                             'Income_Range_30001_Above':np.max,\n",
    "                           'Income_Range_5001_to_10000':np.max,\n",
    "                              'Income_Range_Below_5000':np.max,\n",
    "                                 'Income_Range_Unknown':np.max,\n",
    "                             'Income_Range_Unspecified':np.max,\n",
    "                                  'Job_Type_Accountant':np.max,\n",
    "                               'Job_Type_Administartor':np.max,\n",
    "                    'Job_Type_Chief_Execuetive_Officer':np.max,\n",
    "                                       'Job_Type_Clerk':np.max,\n",
    "                                    'Job_Type_Director':np.max,\n",
    "                                      'Job_Type_Doctor':np.max,\n",
    "                                    'Job_Type_Engineer':np.max,\n",
    "                         'Job_Type_Housewife/Homemaker':np.max,\n",
    "                                     'Job_Type_Manager':np.max,\n",
    "                                     'Job_Type_Officer':np.max,\n",
    "                                      'Job_Type_Others':np.max,\n",
    "       'Job_Type_PREZ/SECY/TREAS_TO_CLUB/ASSOC/SOCIETY':np.max,\n",
    "                             'Job_Type_Sales_Executive':np.max,\n",
    "                               'Job_Type_Self_Employed':np.max,\n",
    "                                    'Job_Type_Services':np.max,\n",
    "                                     'Job_Type_Student':np.max,\n",
    "                                  'Job_Type_Supervisor':np.max,\n",
    "                                  'Job_Type_Technician':np.max,\n",
    "                                 'Job_Type_Unspecified':np.max,\n",
    "                              'Marital_Status_Divorsed':np.max,\n",
    "                               'Marital_Status_Married':np.max,\n",
    "                                'Marital_Status_Others':np.max,\n",
    "                             'Marital_Status_Separated':np.max,\n",
    "                                'Marital_Status_Single':np.max,\n",
    "                           'Marital_Status_Unspecified':np.max,\n",
    "                               'Marital_Status_Widowed':np.max,\n",
    "                                             'Gender_F':np.max,\n",
    "                                             'Gender_M':np.max,\n",
    "                                   'Gender_Unspecified':np.max,\n",
    "                                      'Language_Arabic':np.max,\n",
    "                                     'Language_English':np.max,\n",
    "                                 'Language_Unspecified':np.max,\n",
    "                                  'Loyalty_Status_Gold':np.max,\n",
    "                                'Loyalty_Status_Silver':np.max,\n",
    "                                     'Store_Size_Sq_Ft':np.mean,\n",
    "                                       'Customer_Count':np.mean,\n",
    "                                        'Total_Revenue':np.mean,\n",
    "                                          'launch_year':np.mean,\n",
    "                                          'ff_per_sqft':np.mean,\n",
    "                                         'rev_per_sqft':np.mean,\n",
    "                             'Store_Format_Mall_Stores':np.max,\n",
    "                             'Store_Format_Stand_Alone':np.max,\n",
    "                                   'Store_Format_other':np.max,\n",
    "                                      'Region_Code_601':np.max,\n",
    "                                      'Region_Code_602':np.max,\n",
    "                                      'Region_Code_603':np.max,\n",
    "                                      'Region_Code_604':np.max,\n",
    "                                      'Region_Code_605':np.max,\n",
    "                                      'Region_Code_606':np.max\n",
    "                                                          })\n",
    "\n",
    "#cust_trans_pre_grouped = cust_trans_pre_grouped.to_frame()\n",
    "cust_trans_pre_final = cust_trans_pre_final.reset_index(level=['Customer_ID'])"
   ]
  },
  {
   "cell_type": "markdown",
   "metadata": {},
   "source": [
    "### Post Dataset Prep"
   ]
  },
  {
   "cell_type": "code",
   "execution_count": 151,
   "metadata": {
    "collapsed": true
   },
   "outputs": [],
   "source": [
    "cust_trans_post=cust_trans[cust_trans.Year==2017]"
   ]
  },
  {
   "cell_type": "code",
   "execution_count": 156,
   "metadata": {
    "collapsed": false
   },
   "outputs": [],
   "source": [
    "post_store_info=store_info_final_dumm[store_info.launch_year==2017]"
   ]
  },
  {
   "cell_type": "code",
   "execution_count": 164,
   "metadata": {
    "collapsed": true
   },
   "outputs": [],
   "source": [
    "post_store_info = post_store_info.add_suffix('_post')"
   ]
  },
  {
   "cell_type": "code",
   "execution_count": 180,
   "metadata": {
    "collapsed": false
   },
   "outputs": [
    {
     "data": {
      "text/html": [
       "<div>\n",
       "<table border=\"1\" class=\"dataframe\">\n",
       "  <thead>\n",
       "    <tr style=\"text-align: right;\">\n",
       "      <th></th>\n",
       "      <th>Store_Code_post</th>\n",
       "      <th>Store_Size_Sq_Ft_post</th>\n",
       "      <th>Customer_Count_post</th>\n",
       "      <th>Total_Revenue_post</th>\n",
       "      <th>launch_year_post</th>\n",
       "      <th>ff_per_sqft_post</th>\n",
       "      <th>rev_per_sqft_post</th>\n",
       "      <th>Store_Format_Mall_Stores_post</th>\n",
       "      <th>Store_Format_Stand_Alone_post</th>\n",
       "      <th>Store_Format_other_post</th>\n",
       "      <th>Region_Code_601_post</th>\n",
       "      <th>Region_Code_602_post</th>\n",
       "      <th>Region_Code_603_post</th>\n",
       "      <th>Region_Code_604_post</th>\n",
       "      <th>Region_Code_605_post</th>\n",
       "      <th>Region_Code_606_post</th>\n",
       "    </tr>\n",
       "  </thead>\n",
       "  <tbody>\n",
       "    <tr>\n",
       "      <th>30</th>\n",
       "      <td>60275</td>\n",
       "      <td>2178.431368</td>\n",
       "      <td>13669.0</td>\n",
       "      <td>5271266.78</td>\n",
       "      <td>2017</td>\n",
       "      <td>6.274698</td>\n",
       "      <td>2419.753433</td>\n",
       "      <td>0.0</td>\n",
       "      <td>0.0</td>\n",
       "      <td>1.0</td>\n",
       "      <td>0.0</td>\n",
       "      <td>1.0</td>\n",
       "      <td>0.0</td>\n",
       "      <td>0.0</td>\n",
       "      <td>0.0</td>\n",
       "      <td>0.0</td>\n",
       "    </tr>\n",
       "  </tbody>\n",
       "</table>\n",
       "</div>"
      ],
      "text/plain": [
       "    Store_Code_post  Store_Size_Sq_Ft_post  Customer_Count_post  \\\n",
       "30            60275            2178.431368              13669.0   \n",
       "\n",
       "    Total_Revenue_post  launch_year_post  ff_per_sqft_post  rev_per_sqft_post  \\\n",
       "30          5271266.78              2017          6.274698        2419.753433   \n",
       "\n",
       "    Store_Format_Mall_Stores_post  Store_Format_Stand_Alone_post  \\\n",
       "30                            0.0                            0.0   \n",
       "\n",
       "    Store_Format_other_post  Region_Code_601_post  Region_Code_602_post  \\\n",
       "30                      1.0                   0.0                   1.0   \n",
       "\n",
       "    Region_Code_603_post  Region_Code_604_post  Region_Code_605_post  \\\n",
       "30                   0.0                   0.0                   0.0   \n",
       "\n",
       "    Region_Code_606_post  \n",
       "30                   0.0  "
      ]
     },
     "execution_count": 180,
     "metadata": {},
     "output_type": "execute_result"
    }
   ],
   "source": [
    "post_store_info"
   ]
  },
  {
   "cell_type": "code",
   "execution_count": 181,
   "metadata": {
    "collapsed": true
   },
   "outputs": [],
   "source": [
    "df3=pd.merge(cust_trans_post,post_store_info,how='inner',left_on=['Store_Code'],right_on=['Store_Code_post'])"
   ]
  },
  {
   "cell_type": "code",
   "execution_count": 182,
   "metadata": {
    "collapsed": false
   },
   "outputs": [
    {
     "data": {
      "text/plain": [
       "Index([                    u'Territory',                      u'Business',\n",
       "                                u'Year',                          u'Week',\n",
       "                          u'Store_Code',                     u'City_Name',\n",
       "                          u'Store_Type',              u'Transaction_Type',\n",
       "                       u'Return_Reason',                   u'Customer_ID',\n",
       "                            u'Invoices',                    u'Item_Count',\n",
       "                             u'Revenue',                      u'Discount',\n",
       "                          u'Units_Sold',               u'Store_Code_post',\n",
       "               u'Store_Size_Sq_Ft_post',           u'Customer_Count_post',\n",
       "                  u'Total_Revenue_post',              u'launch_year_post',\n",
       "                    u'ff_per_sqft_post',             u'rev_per_sqft_post',\n",
       "       u'Store_Format_Mall_Stores_post', u'Store_Format_Stand_Alone_post',\n",
       "             u'Store_Format_other_post',          u'Region_Code_601_post',\n",
       "                u'Region_Code_602_post',          u'Region_Code_603_post',\n",
       "                u'Region_Code_604_post',          u'Region_Code_605_post',\n",
       "                u'Region_Code_606_post'],\n",
       "      dtype='object')"
      ]
     },
     "execution_count": 182,
     "metadata": {},
     "output_type": "execute_result"
    }
   ],
   "source": [
    "df3.columns"
   ]
  },
  {
   "cell_type": "code",
   "execution_count": 184,
   "metadata": {
    "collapsed": true
   },
   "outputs": [],
   "source": [
    "post_dataset=df3[['Customer_ID','Store_Code_post','Store_Size_Sq_Ft_post','Total_Revenue_post','launch_year_post',\n",
    "                  'rev_per_sqft_post','Store_Format_Mall_Stores_post','Store_Format_Stand_Alone_post','Store_Format_other_post',\n",
    "                  'Region_Code_601_post','Region_Code_602_post','Region_Code_603_post','Region_Code_604_post','Region_Code_605_post',\n",
    "                 'Region_Code_606_post']]"
   ]
  },
  {
   "cell_type": "code",
   "execution_count": 185,
   "metadata": {
    "collapsed": false
   },
   "outputs": [
    {
     "data": {
      "text/plain": [
       "(1119, 15)"
      ]
     },
     "execution_count": 185,
     "metadata": {},
     "output_type": "execute_result"
    }
   ],
   "source": [
    "post_dataset.shape"
   ]
  },
  {
   "cell_type": "code",
   "execution_count": 191,
   "metadata": {
    "collapsed": true
   },
   "outputs": [],
   "source": [
    "post_dataset_active=post_dataset.drop_duplicates()"
   ]
  },
  {
   "cell_type": "code",
   "execution_count": 194,
   "metadata": {
    "collapsed": false
   },
   "outputs": [
    {
     "data": {
      "text/plain": [
       "(557, 15)"
      ]
     },
     "execution_count": 194,
     "metadata": {},
     "output_type": "execute_result"
    }
   ],
   "source": [
    "post_dataset_active.shape"
   ]
  },
  {
   "cell_type": "code",
   "execution_count": 196,
   "metadata": {
    "collapsed": false
   },
   "outputs": [
    {
     "name": "stderr",
     "output_type": "stream",
     "text": [
      "C:\\Anaconda2\\lib\\site-packages\\ipykernel\\__main__.py:1: SettingWithCopyWarning: \n",
      "A value is trying to be set on a copy of a slice from a DataFrame.\n",
      "Try using .loc[row_indexer,col_indexer] = value instead\n",
      "\n",
      "See the caveats in the documentation: http://pandas.pydata.org/pandas-docs/stable/indexing.html#indexing-view-versus-copy\n",
      "  if __name__ == '__main__':\n"
     ]
    }
   ],
   "source": [
    "post_dataset_active['post_flag']=1"
   ]
  },
  {
   "cell_type": "code",
   "execution_count": 237,
   "metadata": {
    "collapsed": false
   },
   "outputs": [
    {
     "data": {
      "text/html": [
       "<div>\n",
       "<table border=\"1\" class=\"dataframe\">\n",
       "  <thead>\n",
       "    <tr style=\"text-align: right;\">\n",
       "      <th></th>\n",
       "      <th>Customer_ID</th>\n",
       "      <th>Store_Code_post</th>\n",
       "      <th>Store_Size_Sq_Ft_post</th>\n",
       "      <th>Total_Revenue_post</th>\n",
       "      <th>launch_year_post</th>\n",
       "      <th>rev_per_sqft_post</th>\n",
       "      <th>Store_Format_Mall_Stores_post</th>\n",
       "      <th>Store_Format_Stand_Alone_post</th>\n",
       "      <th>Store_Format_other_post</th>\n",
       "      <th>Region_Code_601_post</th>\n",
       "      <th>Region_Code_602_post</th>\n",
       "      <th>Region_Code_603_post</th>\n",
       "      <th>Region_Code_604_post</th>\n",
       "      <th>Region_Code_605_post</th>\n",
       "      <th>Region_Code_606_post</th>\n",
       "      <th>post_flag</th>\n",
       "    </tr>\n",
       "  </thead>\n",
       "  <tbody>\n",
       "    <tr>\n",
       "      <th>0</th>\n",
       "      <td>1800000209675400</td>\n",
       "      <td>60275</td>\n",
       "      <td>2178.431368</td>\n",
       "      <td>5271266.78</td>\n",
       "      <td>2017</td>\n",
       "      <td>2419.753433</td>\n",
       "      <td>0.0</td>\n",
       "      <td>0.0</td>\n",
       "      <td>1.0</td>\n",
       "      <td>0.0</td>\n",
       "      <td>1.0</td>\n",
       "      <td>0.0</td>\n",
       "      <td>0.0</td>\n",
       "      <td>0.0</td>\n",
       "      <td>0.0</td>\n",
       "      <td>1</td>\n",
       "    </tr>\n",
       "    <tr>\n",
       "      <th>1</th>\n",
       "      <td>1800000251693600</td>\n",
       "      <td>60275</td>\n",
       "      <td>2178.431368</td>\n",
       "      <td>5271266.78</td>\n",
       "      <td>2017</td>\n",
       "      <td>2419.753433</td>\n",
       "      <td>0.0</td>\n",
       "      <td>0.0</td>\n",
       "      <td>1.0</td>\n",
       "      <td>0.0</td>\n",
       "      <td>1.0</td>\n",
       "      <td>0.0</td>\n",
       "      <td>0.0</td>\n",
       "      <td>0.0</td>\n",
       "      <td>0.0</td>\n",
       "      <td>1</td>\n",
       "    </tr>\n",
       "    <tr>\n",
       "      <th>2</th>\n",
       "      <td>1800000007444660</td>\n",
       "      <td>60275</td>\n",
       "      <td>2178.431368</td>\n",
       "      <td>5271266.78</td>\n",
       "      <td>2017</td>\n",
       "      <td>2419.753433</td>\n",
       "      <td>0.0</td>\n",
       "      <td>0.0</td>\n",
       "      <td>1.0</td>\n",
       "      <td>0.0</td>\n",
       "      <td>1.0</td>\n",
       "      <td>0.0</td>\n",
       "      <td>0.0</td>\n",
       "      <td>0.0</td>\n",
       "      <td>0.0</td>\n",
       "      <td>1</td>\n",
       "    </tr>\n",
       "    <tr>\n",
       "      <th>3</th>\n",
       "      <td>1800000007710370</td>\n",
       "      <td>60275</td>\n",
       "      <td>2178.431368</td>\n",
       "      <td>5271266.78</td>\n",
       "      <td>2017</td>\n",
       "      <td>2419.753433</td>\n",
       "      <td>0.0</td>\n",
       "      <td>0.0</td>\n",
       "      <td>1.0</td>\n",
       "      <td>0.0</td>\n",
       "      <td>1.0</td>\n",
       "      <td>0.0</td>\n",
       "      <td>0.0</td>\n",
       "      <td>0.0</td>\n",
       "      <td>0.0</td>\n",
       "      <td>1</td>\n",
       "    </tr>\n",
       "    <tr>\n",
       "      <th>4</th>\n",
       "      <td>1800000012449670</td>\n",
       "      <td>60275</td>\n",
       "      <td>2178.431368</td>\n",
       "      <td>5271266.78</td>\n",
       "      <td>2017</td>\n",
       "      <td>2419.753433</td>\n",
       "      <td>0.0</td>\n",
       "      <td>0.0</td>\n",
       "      <td>1.0</td>\n",
       "      <td>0.0</td>\n",
       "      <td>1.0</td>\n",
       "      <td>0.0</td>\n",
       "      <td>0.0</td>\n",
       "      <td>0.0</td>\n",
       "      <td>0.0</td>\n",
       "      <td>1</td>\n",
       "    </tr>\n",
       "  </tbody>\n",
       "</table>\n",
       "</div>"
      ],
      "text/plain": [
       "        Customer_ID  Store_Code_post  Store_Size_Sq_Ft_post  \\\n",
       "0  1800000209675400            60275            2178.431368   \n",
       "1  1800000251693600            60275            2178.431368   \n",
       "2  1800000007444660            60275            2178.431368   \n",
       "3  1800000007710370            60275            2178.431368   \n",
       "4  1800000012449670            60275            2178.431368   \n",
       "\n",
       "   Total_Revenue_post  launch_year_post  rev_per_sqft_post  \\\n",
       "0          5271266.78              2017        2419.753433   \n",
       "1          5271266.78              2017        2419.753433   \n",
       "2          5271266.78              2017        2419.753433   \n",
       "3          5271266.78              2017        2419.753433   \n",
       "4          5271266.78              2017        2419.753433   \n",
       "\n",
       "   Store_Format_Mall_Stores_post  Store_Format_Stand_Alone_post  \\\n",
       "0                            0.0                            0.0   \n",
       "1                            0.0                            0.0   \n",
       "2                            0.0                            0.0   \n",
       "3                            0.0                            0.0   \n",
       "4                            0.0                            0.0   \n",
       "\n",
       "   Store_Format_other_post  Region_Code_601_post  Region_Code_602_post  \\\n",
       "0                      1.0                   0.0                   1.0   \n",
       "1                      1.0                   0.0                   1.0   \n",
       "2                      1.0                   0.0                   1.0   \n",
       "3                      1.0                   0.0                   1.0   \n",
       "4                      1.0                   0.0                   1.0   \n",
       "\n",
       "   Region_Code_603_post  Region_Code_604_post  Region_Code_605_post  \\\n",
       "0                   0.0                   0.0                   0.0   \n",
       "1                   0.0                   0.0                   0.0   \n",
       "2                   0.0                   0.0                   0.0   \n",
       "3                   0.0                   0.0                   0.0   \n",
       "4                   0.0                   0.0                   0.0   \n",
       "\n",
       "   Region_Code_606_post  post_flag  \n",
       "0                   0.0          1  \n",
       "1                   0.0          1  \n",
       "2                   0.0          1  \n",
       "3                   0.0          1  \n",
       "4                   0.0          1  "
      ]
     },
     "execution_count": 237,
     "metadata": {},
     "output_type": "execute_result"
    }
   ],
   "source": [
    "post_dataset_active.head()"
   ]
  },
  {
   "cell_type": "code",
   "execution_count": 228,
   "metadata": {
    "collapsed": false
   },
   "outputs": [],
   "source": [
    "post_dataset_inact=cust_trans_post[cust_trans_post.Store_Code!=60275][['Customer_ID']]"
   ]
  },
  {
   "cell_type": "code",
   "execution_count": 229,
   "metadata": {
    "collapsed": false
   },
   "outputs": [
    {
     "data": {
      "text/plain": [
       "pandas.core.frame.DataFrame"
      ]
     },
     "execution_count": 229,
     "metadata": {},
     "output_type": "execute_result"
    }
   ],
   "source": [
    "type(post_dataset_inactive)"
   ]
  },
  {
   "cell_type": "code",
   "execution_count": 230,
   "metadata": {
    "collapsed": true
   },
   "outputs": [],
   "source": [
    "post_dataset_inact=post_dataset_inactive.drop_duplicates()"
   ]
  },
  {
   "cell_type": "code",
   "execution_count": 231,
   "metadata": {
    "collapsed": false
   },
   "outputs": [
    {
     "data": {
      "text/plain": [
       "(76834, 1)"
      ]
     },
     "execution_count": 231,
     "metadata": {},
     "output_type": "execute_result"
    }
   ],
   "source": [
    "post_dataset_inact.shape"
   ]
  },
  {
   "cell_type": "code",
   "execution_count": 232,
   "metadata": {
    "collapsed": true
   },
   "outputs": [],
   "source": [
    "import itertools\n",
    "\n",
    "def cartesian(df1, df2):\n",
    "    rows = itertools.product(df1.iterrows(), df2.iterrows())\n",
    "\n",
    "    df = pd.DataFrame(left.append(right) for (_, left), (_, right) in rows)\n",
    "    return df.reset_index(drop=True)"
   ]
  },
  {
   "cell_type": "code",
   "execution_count": 233,
   "metadata": {
    "collapsed": false
   },
   "outputs": [],
   "source": [
    "post_dataset_inact_final=cartesian(post_dataset_inact,post_store_info)"
   ]
  },
  {
   "cell_type": "code",
   "execution_count": 234,
   "metadata": {
    "collapsed": true
   },
   "outputs": [],
   "source": [
    "post_dataset_inact_final['post_flag']=0"
   ]
  },
  {
   "cell_type": "code",
   "execution_count": 238,
   "metadata": {
    "collapsed": false
   },
   "outputs": [
    {
     "data": {
      "text/plain": [
       "Index([                  u'Customer_ID',               u'Store_Code_post',\n",
       "               u'Store_Size_Sq_Ft_post',           u'Customer_Count_post',\n",
       "                  u'Total_Revenue_post',              u'launch_year_post',\n",
       "                    u'ff_per_sqft_post',             u'rev_per_sqft_post',\n",
       "       u'Store_Format_Mall_Stores_post', u'Store_Format_Stand_Alone_post',\n",
       "             u'Store_Format_other_post',          u'Region_Code_601_post',\n",
       "                u'Region_Code_602_post',          u'Region_Code_603_post',\n",
       "                u'Region_Code_604_post',          u'Region_Code_605_post',\n",
       "                u'Region_Code_606_post',                     u'post_flag'],\n",
       "      dtype='object')"
      ]
     },
     "execution_count": 238,
     "metadata": {},
     "output_type": "execute_result"
    }
   ],
   "source": [
    "post_dataset_inact_final.columns"
   ]
  },
  {
   "cell_type": "code",
   "execution_count": 239,
   "metadata": {
    "collapsed": false
   },
   "outputs": [],
   "source": [
    "post_dataset_inactive=post_dataset_inact_final[['Customer_ID','Store_Code_post','Store_Size_Sq_Ft_post','Total_Revenue_post','launch_year_post',\n",
    "                  'rev_per_sqft_post','Store_Format_Mall_Stores_post','Store_Format_Stand_Alone_post','Store_Format_other_post',\n",
    "                  'Region_Code_601_post','Region_Code_602_post','Region_Code_603_post','Region_Code_604_post','Region_Code_605_post',\n",
    "                 'Region_Code_606_post','post_flag']]"
   ]
  },
  {
   "cell_type": "code",
   "execution_count": 240,
   "metadata": {
    "collapsed": true
   },
   "outputs": [],
   "source": [
    "post_dataset_final = post_dataset_active.append(post_dataset_inactive, ignore_index=True)"
   ]
  },
  {
   "cell_type": "code",
   "execution_count": 241,
   "metadata": {
    "collapsed": false
   },
   "outputs": [
    {
     "data": {
      "text/html": [
       "<div>\n",
       "<table border=\"1\" class=\"dataframe\">\n",
       "  <thead>\n",
       "    <tr style=\"text-align: right;\">\n",
       "      <th></th>\n",
       "      <th>Customer_ID</th>\n",
       "      <th>Store_Code_post</th>\n",
       "      <th>Store_Size_Sq_Ft_post</th>\n",
       "      <th>Total_Revenue_post</th>\n",
       "      <th>launch_year_post</th>\n",
       "      <th>rev_per_sqft_post</th>\n",
       "      <th>Store_Format_Mall_Stores_post</th>\n",
       "      <th>Store_Format_Stand_Alone_post</th>\n",
       "      <th>Store_Format_other_post</th>\n",
       "      <th>Region_Code_601_post</th>\n",
       "      <th>Region_Code_602_post</th>\n",
       "      <th>Region_Code_603_post</th>\n",
       "      <th>Region_Code_604_post</th>\n",
       "      <th>Region_Code_605_post</th>\n",
       "      <th>Region_Code_606_post</th>\n",
       "      <th>post_flag</th>\n",
       "    </tr>\n",
       "  </thead>\n",
       "  <tbody>\n",
       "    <tr>\n",
       "      <th>0</th>\n",
       "      <td>1.800000e+15</td>\n",
       "      <td>60275.0</td>\n",
       "      <td>2178.431368</td>\n",
       "      <td>5271266.78</td>\n",
       "      <td>2017.0</td>\n",
       "      <td>2419.753433</td>\n",
       "      <td>0.0</td>\n",
       "      <td>0.0</td>\n",
       "      <td>1.0</td>\n",
       "      <td>0.0</td>\n",
       "      <td>1.0</td>\n",
       "      <td>0.0</td>\n",
       "      <td>0.0</td>\n",
       "      <td>0.0</td>\n",
       "      <td>0.0</td>\n",
       "      <td>1</td>\n",
       "    </tr>\n",
       "    <tr>\n",
       "      <th>1</th>\n",
       "      <td>1.800000e+15</td>\n",
       "      <td>60275.0</td>\n",
       "      <td>2178.431368</td>\n",
       "      <td>5271266.78</td>\n",
       "      <td>2017.0</td>\n",
       "      <td>2419.753433</td>\n",
       "      <td>0.0</td>\n",
       "      <td>0.0</td>\n",
       "      <td>1.0</td>\n",
       "      <td>0.0</td>\n",
       "      <td>1.0</td>\n",
       "      <td>0.0</td>\n",
       "      <td>0.0</td>\n",
       "      <td>0.0</td>\n",
       "      <td>0.0</td>\n",
       "      <td>1</td>\n",
       "    </tr>\n",
       "    <tr>\n",
       "      <th>2</th>\n",
       "      <td>1.800000e+15</td>\n",
       "      <td>60275.0</td>\n",
       "      <td>2178.431368</td>\n",
       "      <td>5271266.78</td>\n",
       "      <td>2017.0</td>\n",
       "      <td>2419.753433</td>\n",
       "      <td>0.0</td>\n",
       "      <td>0.0</td>\n",
       "      <td>1.0</td>\n",
       "      <td>0.0</td>\n",
       "      <td>1.0</td>\n",
       "      <td>0.0</td>\n",
       "      <td>0.0</td>\n",
       "      <td>0.0</td>\n",
       "      <td>0.0</td>\n",
       "      <td>1</td>\n",
       "    </tr>\n",
       "    <tr>\n",
       "      <th>3</th>\n",
       "      <td>1.800000e+15</td>\n",
       "      <td>60275.0</td>\n",
       "      <td>2178.431368</td>\n",
       "      <td>5271266.78</td>\n",
       "      <td>2017.0</td>\n",
       "      <td>2419.753433</td>\n",
       "      <td>0.0</td>\n",
       "      <td>0.0</td>\n",
       "      <td>1.0</td>\n",
       "      <td>0.0</td>\n",
       "      <td>1.0</td>\n",
       "      <td>0.0</td>\n",
       "      <td>0.0</td>\n",
       "      <td>0.0</td>\n",
       "      <td>0.0</td>\n",
       "      <td>1</td>\n",
       "    </tr>\n",
       "    <tr>\n",
       "      <th>4</th>\n",
       "      <td>1.800000e+15</td>\n",
       "      <td>60275.0</td>\n",
       "      <td>2178.431368</td>\n",
       "      <td>5271266.78</td>\n",
       "      <td>2017.0</td>\n",
       "      <td>2419.753433</td>\n",
       "      <td>0.0</td>\n",
       "      <td>0.0</td>\n",
       "      <td>1.0</td>\n",
       "      <td>0.0</td>\n",
       "      <td>1.0</td>\n",
       "      <td>0.0</td>\n",
       "      <td>0.0</td>\n",
       "      <td>0.0</td>\n",
       "      <td>0.0</td>\n",
       "      <td>1</td>\n",
       "    </tr>\n",
       "  </tbody>\n",
       "</table>\n",
       "</div>"
      ],
      "text/plain": [
       "    Customer_ID  Store_Code_post  Store_Size_Sq_Ft_post  Total_Revenue_post  \\\n",
       "0  1.800000e+15          60275.0            2178.431368          5271266.78   \n",
       "1  1.800000e+15          60275.0            2178.431368          5271266.78   \n",
       "2  1.800000e+15          60275.0            2178.431368          5271266.78   \n",
       "3  1.800000e+15          60275.0            2178.431368          5271266.78   \n",
       "4  1.800000e+15          60275.0            2178.431368          5271266.78   \n",
       "\n",
       "   launch_year_post  rev_per_sqft_post  Store_Format_Mall_Stores_post  \\\n",
       "0            2017.0        2419.753433                            0.0   \n",
       "1            2017.0        2419.753433                            0.0   \n",
       "2            2017.0        2419.753433                            0.0   \n",
       "3            2017.0        2419.753433                            0.0   \n",
       "4            2017.0        2419.753433                            0.0   \n",
       "\n",
       "   Store_Format_Stand_Alone_post  Store_Format_other_post  \\\n",
       "0                            0.0                      1.0   \n",
       "1                            0.0                      1.0   \n",
       "2                            0.0                      1.0   \n",
       "3                            0.0                      1.0   \n",
       "4                            0.0                      1.0   \n",
       "\n",
       "   Region_Code_601_post  Region_Code_602_post  Region_Code_603_post  \\\n",
       "0                   0.0                   1.0                   0.0   \n",
       "1                   0.0                   1.0                   0.0   \n",
       "2                   0.0                   1.0                   0.0   \n",
       "3                   0.0                   1.0                   0.0   \n",
       "4                   0.0                   1.0                   0.0   \n",
       "\n",
       "   Region_Code_604_post  Region_Code_605_post  Region_Code_606_post  post_flag  \n",
       "0                   0.0                   0.0                   0.0          1  \n",
       "1                   0.0                   0.0                   0.0          1  \n",
       "2                   0.0                   0.0                   0.0          1  \n",
       "3                   0.0                   0.0                   0.0          1  \n",
       "4                   0.0                   0.0                   0.0          1  "
      ]
     },
     "execution_count": 241,
     "metadata": {},
     "output_type": "execute_result"
    }
   ],
   "source": [
    "post_dataset_final.head()"
   ]
  },
  {
   "cell_type": "code",
   "execution_count": 268,
   "metadata": {
    "collapsed": true
   },
   "outputs": [],
   "source": [
    "Final_train_dataset=pd.merge(cust_trans_pre_final,post_dataset_final,how='left',left_on=['Customer_ID'],right_on=['Customer_ID'])"
   ]
  },
  {
   "cell_type": "code",
   "execution_count": 269,
   "metadata": {
    "collapsed": false
   },
   "outputs": [],
   "source": [
    "Final_train_dataset=Final_train_dataset.fillna(0)"
   ]
  },
  {
   "cell_type": "code",
   "execution_count": 270,
   "metadata": {
    "collapsed": false
   },
   "outputs": [],
   "source": [
    "Final_train_dataset['Store_Code_post']=60275"
   ]
  },
  {
   "cell_type": "code",
   "execution_count": 271,
   "metadata": {
    "collapsed": false
   },
   "outputs": [
    {
     "data": {
      "text/plain": [
       "68523"
      ]
     },
     "execution_count": 271,
     "metadata": {},
     "output_type": "execute_result"
    }
   ],
   "source": [
    "Final_train_dataset.Customer_ID.nunique()"
   ]
  },
  {
   "cell_type": "markdown",
   "metadata": {},
   "source": [
    "### Building a Random Forest Models"
   ]
  },
  {
   "cell_type": "code",
   "execution_count": 272,
   "metadata": {
    "collapsed": false
   },
   "outputs": [],
   "source": [
    "#from sklearn.model_selection import train_test_split\n",
    "from sklearn.ensemble import RandomForestClassifier\n",
    "from sklearn.cross_validation import cross_val_score\n",
    "from sklearn.metrics import accuracy_score"
   ]
  },
  {
   "cell_type": "code",
   "execution_count": null,
   "metadata": {
    "collapsed": true
   },
   "outputs": [],
   "source": [
    "y = Final_train_dataset['post_flag']\n",
    "#del Final_train_dataset['post_flag','Customer_ID','Store_Code_post']\n",
    "Final_train_dataset=Final_train_dataset.drop(['post_flag','Customer_ID','Store_Code_post'], axis=1)\n",
    "X = Final_train_dataset\n",
    "#X_train,X_test,y_train,y_test = train_test_split(X,y,test_size=0.3,random_state=1,stratify=y)\n",
    "\n",
    "#train the RF classifier\n",
    "clf = RandomForestClassifier(n_estimators = 500, max_depth = 6) \n",
    "\n",
    "#clf.predict(X_test)"
   ]
  },
  {
   "cell_type": "code",
   "execution_count": 274,
   "metadata": {
    "collapsed": false
   },
   "outputs": [
    {
     "data": {
      "text/plain": [
       "RandomForestClassifier(bootstrap=True, class_weight=None, criterion='gini',\n",
       "            max_depth=6, max_features='auto', max_leaf_nodes=None,\n",
       "            min_samples_leaf=1, min_samples_split=2,\n",
       "            min_weight_fraction_leaf=0.0, n_estimators=500, n_jobs=1,\n",
       "            oob_score=False, random_state=None, verbose=0,\n",
       "            warm_start=False)"
      ]
     },
     "execution_count": 274,
     "metadata": {},
     "output_type": "execute_result"
    }
   ],
   "source": [
    "clf.fit(X,y)"
   ]
  },
  {
   "cell_type": "code",
   "execution_count": 275,
   "metadata": {
    "collapsed": false
   },
   "outputs": [
    {
     "name": "stdout",
     "output_type": "stream",
     "text": [
      "The accuracy of Random Forest is 0.995449126174\n"
     ]
    }
   ],
   "source": [
    "#make prediction and check model's accuracy\n",
    "prediction = clf.predict(X)\n",
    "acc =  accuracy_score(np.array(y),prediction)\n",
    "print ('The accuracy of Random Forest is {}'.format(acc))"
   ]
  },
  {
   "cell_type": "code",
   "execution_count": null,
   "metadata": {
    "collapsed": true
   },
   "outputs": [],
   "source": []
  }
 ],
 "metadata": {
  "kernelspec": {
   "display_name": "Python [Root]",
   "language": "python",
   "name": "Python [Root]"
  },
  "language_info": {
   "codemirror_mode": {
    "name": "ipython",
    "version": 2
   },
   "file_extension": ".py",
   "mimetype": "text/x-python",
   "name": "python",
   "nbconvert_exporter": "python",
   "pygments_lexer": "ipython2",
   "version": "2.7.12"
  }
 },
 "nbformat": 4,
 "nbformat_minor": 0
}
