{
 "cells": [
  {
   "cell_type": "markdown",
   "metadata": {},
   "source": [
    "https://www.analyticsvidhya.com/blog/2015/11/easy-methods-deal-categorical-variables-predictive-modeling/"
   ]
  },
  {
   "cell_type": "code",
   "execution_count": 1,
   "metadata": {
    "collapsed": true
   },
   "outputs": [],
   "source": [
    "import pandas as pd\n",
    "import numpy as np\n",
    "import matplotlib.pyplot as plt\n",
    "import seaborn as sn"
   ]
  },
  {
   "cell_type": "markdown",
   "metadata": {},
   "source": [
    "### Training Dataset"
   ]
  },
  {
   "cell_type": "code",
   "execution_count": 8,
   "metadata": {
    "collapsed": false
   },
   "outputs": [
    {
     "name": "stderr",
     "output_type": "stream",
     "text": [
      "C:\\Anaconda2\\lib\\site-packages\\IPython\\core\\interactiveshell.py:2723: DtypeWarning: Columns (0,1,2,3,4,5,6,7,8,9,10,11,12,13,14,15,16,17,18,19,20,21,22,23,24,25,26,27,28) have mixed types. Specify dtype option on import or set low_memory=False.\n",
      "  interactivity=interactivity, compiler=compiler, result=result)\n"
     ]
    }
   ],
   "source": [
    "df_train = pd.read_csv('./Data/train_data.txt', sep=\"|\", header=None)"
   ]
  },
  {
   "cell_type": "code",
   "execution_count": 17,
   "metadata": {
    "collapsed": false
   },
   "outputs": [
    {
     "data": {
      "text/html": [
       "<div>\n",
       "<table border=\"1\" class=\"dataframe\">\n",
       "  <thead>\n",
       "    <tr style=\"text-align: right;\">\n",
       "      <th></th>\n",
       "      <th>Var1</th>\n",
       "      <th>Var2</th>\n",
       "      <th>Var3</th>\n",
       "      <th>Var4</th>\n",
       "      <th>Var5</th>\n",
       "      <th>Var6</th>\n",
       "      <th>Var7</th>\n",
       "      <th>Var8</th>\n",
       "      <th>Var9</th>\n",
       "      <th>Var10</th>\n",
       "      <th>...</th>\n",
       "      <th>Var45</th>\n",
       "      <th>Var46</th>\n",
       "      <th>Var47</th>\n",
       "      <th>Var48</th>\n",
       "      <th>Var49</th>\n",
       "      <th>Var50</th>\n",
       "      <th>Var51</th>\n",
       "      <th>Var52</th>\n",
       "      <th>Var53</th>\n",
       "      <th>Var54</th>\n",
       "    </tr>\n",
       "  </thead>\n",
       "  <tbody>\n",
       "    <tr>\n",
       "      <th>0</th>\n",
       "      <td>Var1</td>\n",
       "      <td>Var2</td>\n",
       "      <td>Var3</td>\n",
       "      <td>Var4</td>\n",
       "      <td>Var5</td>\n",
       "      <td>Var6</td>\n",
       "      <td>Var7</td>\n",
       "      <td>Var8</td>\n",
       "      <td>Var9</td>\n",
       "      <td>Var10</td>\n",
       "      <td>...</td>\n",
       "      <td>Var45</td>\n",
       "      <td>Var46</td>\n",
       "      <td>Var47</td>\n",
       "      <td>Var48</td>\n",
       "      <td>Var49</td>\n",
       "      <td>Var50</td>\n",
       "      <td>Var51</td>\n",
       "      <td>Var52</td>\n",
       "      <td>Var53</td>\n",
       "      <td>Var54</td>\n",
       "    </tr>\n",
       "    <tr>\n",
       "      <th>1</th>\n",
       "      <td>14</td>\n",
       "      <td>0</td>\n",
       "      <td>NaN</td>\n",
       "      <td>0</td>\n",
       "      <td>28</td>\n",
       "      <td>35</td>\n",
       "      <td>24</td>\n",
       "      <td>337.12</td>\n",
       "      <td>3992220</td>\n",
       "      <td>NaN</td>\n",
       "      <td>...</td>\n",
       "      <td>NhsEn4L</td>\n",
       "      <td>NaN</td>\n",
       "      <td>UYBR</td>\n",
       "      <td>xtRDFjT</td>\n",
       "      <td>oslk</td>\n",
       "      <td>BDw0V7y</td>\n",
       "      <td>LM8l689qOp</td>\n",
       "      <td>NaN</td>\n",
       "      <td>WqMG</td>\n",
       "      <td>RAYp</td>\n",
       "    </tr>\n",
       "    <tr>\n",
       "      <th>2</th>\n",
       "      <td>NaN</td>\n",
       "      <td>NaN</td>\n",
       "      <td>NaN</td>\n",
       "      <td>NaN</td>\n",
       "      <td>NaN</td>\n",
       "      <td>NaN</td>\n",
       "      <td>NaN</td>\n",
       "      <td>NaN</td>\n",
       "      <td>NaN</td>\n",
       "      <td>NaN</td>\n",
       "      <td>...</td>\n",
       "      <td>NhsEn4L</td>\n",
       "      <td>NaN</td>\n",
       "      <td>cJvF</td>\n",
       "      <td>QMaRwBA</td>\n",
       "      <td>oslk</td>\n",
       "      <td>0D0gQ7h</td>\n",
       "      <td>LM8l689qOp</td>\n",
       "      <td>NaN</td>\n",
       "      <td>7P5s</td>\n",
       "      <td>RAYp</td>\n",
       "    </tr>\n",
       "    <tr>\n",
       "      <th>3</th>\n",
       "      <td>791</td>\n",
       "      <td>7</td>\n",
       "      <td>NaN</td>\n",
       "      <td>148</td>\n",
       "      <td>32</td>\n",
       "      <td>40</td>\n",
       "      <td>8</td>\n",
       "      <td>220.08</td>\n",
       "      <td>38994</td>\n",
       "      <td>NaN</td>\n",
       "      <td>...</td>\n",
       "      <td>NhsEn4L</td>\n",
       "      <td>pAYuLzc</td>\n",
       "      <td>cJvF</td>\n",
       "      <td>4PcK5YS</td>\n",
       "      <td>oslk</td>\n",
       "      <td>bTP9hga</td>\n",
       "      <td>NaN</td>\n",
       "      <td>ELof</td>\n",
       "      <td>xb3V</td>\n",
       "      <td>RAYp</td>\n",
       "    </tr>\n",
       "    <tr>\n",
       "      <th>4</th>\n",
       "      <td>2142</td>\n",
       "      <td>14</td>\n",
       "      <td>NaN</td>\n",
       "      <td>6592</td>\n",
       "      <td>188</td>\n",
       "      <td>235</td>\n",
       "      <td>96</td>\n",
       "      <td>260.24</td>\n",
       "      <td>1428156</td>\n",
       "      <td>NaN</td>\n",
       "      <td>...</td>\n",
       "      <td>FMSzZ91zL2</td>\n",
       "      <td>9EXPHGn</td>\n",
       "      <td>cJvF</td>\n",
       "      <td>Tvpip6Z</td>\n",
       "      <td>zCkv</td>\n",
       "      <td>hHJsvbM</td>\n",
       "      <td>LM8l689qOp</td>\n",
       "      <td>ELof</td>\n",
       "      <td>rgKb</td>\n",
       "      <td>6fzt</td>\n",
       "    </tr>\n",
       "  </tbody>\n",
       "</table>\n",
       "<p>5 rows × 54 columns</p>\n",
       "</div>"
      ],
      "text/plain": [
       "0  Var1  Var2  Var3  Var4  Var5  Var6  Var7    Var8     Var9  Var10  ...    \\\n",
       "0  Var1  Var2  Var3  Var4  Var5  Var6  Var7    Var8     Var9  Var10  ...     \n",
       "1    14     0   NaN     0    28    35    24  337.12  3992220    NaN  ...     \n",
       "2   NaN   NaN   NaN   NaN   NaN   NaN   NaN     NaN      NaN    NaN  ...     \n",
       "3   791     7   NaN   148    32    40     8  220.08    38994    NaN  ...     \n",
       "4  2142    14   NaN  6592   188   235    96  260.24  1428156    NaN  ...     \n",
       "\n",
       "0       Var45    Var46  Var47    Var48  Var49    Var50       Var51  Var52  \\\n",
       "0       Var45    Var46  Var47    Var48  Var49    Var50       Var51  Var52   \n",
       "1     NhsEn4L      NaN   UYBR  xtRDFjT   oslk  BDw0V7y  LM8l689qOp    NaN   \n",
       "2     NhsEn4L      NaN   cJvF  QMaRwBA   oslk  0D0gQ7h  LM8l689qOp    NaN   \n",
       "3     NhsEn4L  pAYuLzc   cJvF  4PcK5YS   oslk  bTP9hga         NaN   ELof   \n",
       "4  FMSzZ91zL2  9EXPHGn   cJvF  Tvpip6Z   zCkv  hHJsvbM  LM8l689qOp   ELof   \n",
       "\n",
       "0  Var53  Var54  \n",
       "0  Var53  Var54  \n",
       "1   WqMG   RAYp  \n",
       "2   7P5s   RAYp  \n",
       "3   xb3V   RAYp  \n",
       "4   rgKb   6fzt  \n",
       "\n",
       "[5 rows x 54 columns]"
      ]
     },
     "execution_count": 17,
     "metadata": {},
     "output_type": "execute_result"
    }
   ],
   "source": [
    "df_train.head()"
   ]
  },
  {
   "cell_type": "code",
   "execution_count": 16,
   "metadata": {
    "collapsed": false
   },
   "outputs": [],
   "source": [
    "df_train.columns = df_train.iloc[0]"
   ]
  },
  {
   "cell_type": "code",
   "execution_count": 20,
   "metadata": {
    "collapsed": false
   },
   "outputs": [],
   "source": [
    "df_train_final=df_train.reindex(df_train.index.drop(0))"
   ]
  },
  {
   "cell_type": "markdown",
   "metadata": {},
   "source": [
    "### Churn Flag"
   ]
  },
  {
   "cell_type": "code",
   "execution_count": 27,
   "metadata": {
    "collapsed": false
   },
   "outputs": [],
   "source": [
    "df_churn = pd.read_csv('./Data/churn_labels.txt', sep=\"|\", header=None, names=[\"churn_label\"])"
   ]
  },
  {
   "cell_type": "code",
   "execution_count": 28,
   "metadata": {
    "collapsed": false
   },
   "outputs": [
    {
     "data": {
      "text/plain": [
       "churn_label    20000\n",
       "dtype: int64"
      ]
     },
     "execution_count": 28,
     "metadata": {},
     "output_type": "execute_result"
    }
   ],
   "source": [
    "df_churn.count()"
   ]
  },
  {
   "cell_type": "markdown",
   "metadata": {},
   "source": [
    "## Combining both the Dataframes"
   ]
  },
  {
   "cell_type": "code",
   "execution_count": 29,
   "metadata": {
    "collapsed": true
   },
   "outputs": [],
   "source": [
    "df_final = pd.concat([df_train_final.reset_index(drop=True), df_churn], axis=1)"
   ]
  },
  {
   "cell_type": "code",
   "execution_count": 31,
   "metadata": {
    "collapsed": false
   },
   "outputs": [
    {
     "data": {
      "text/html": [
       "<div>\n",
       "<table border=\"1\" class=\"dataframe\">\n",
       "  <thead>\n",
       "    <tr style=\"text-align: right;\">\n",
       "      <th></th>\n",
       "      <th>Var1</th>\n",
       "      <th>Var2</th>\n",
       "      <th>Var3</th>\n",
       "      <th>Var4</th>\n",
       "      <th>Var5</th>\n",
       "      <th>Var6</th>\n",
       "      <th>Var7</th>\n",
       "      <th>Var8</th>\n",
       "      <th>Var9</th>\n",
       "      <th>Var10</th>\n",
       "      <th>...</th>\n",
       "      <th>Var46</th>\n",
       "      <th>Var47</th>\n",
       "      <th>Var48</th>\n",
       "      <th>Var49</th>\n",
       "      <th>Var50</th>\n",
       "      <th>Var51</th>\n",
       "      <th>Var52</th>\n",
       "      <th>Var53</th>\n",
       "      <th>Var54</th>\n",
       "      <th>churn_label</th>\n",
       "    </tr>\n",
       "  </thead>\n",
       "  <tbody>\n",
       "    <tr>\n",
       "      <th>0</th>\n",
       "      <td>14</td>\n",
       "      <td>0</td>\n",
       "      <td>NaN</td>\n",
       "      <td>0</td>\n",
       "      <td>28</td>\n",
       "      <td>35</td>\n",
       "      <td>24</td>\n",
       "      <td>337.12</td>\n",
       "      <td>3992220</td>\n",
       "      <td>NaN</td>\n",
       "      <td>...</td>\n",
       "      <td>NaN</td>\n",
       "      <td>UYBR</td>\n",
       "      <td>xtRDFjT</td>\n",
       "      <td>oslk</td>\n",
       "      <td>BDw0V7y</td>\n",
       "      <td>LM8l689qOp</td>\n",
       "      <td>NaN</td>\n",
       "      <td>WqMG</td>\n",
       "      <td>RAYp</td>\n",
       "      <td>1</td>\n",
       "    </tr>\n",
       "    <tr>\n",
       "      <th>1</th>\n",
       "      <td>NaN</td>\n",
       "      <td>NaN</td>\n",
       "      <td>NaN</td>\n",
       "      <td>NaN</td>\n",
       "      <td>NaN</td>\n",
       "      <td>NaN</td>\n",
       "      <td>NaN</td>\n",
       "      <td>NaN</td>\n",
       "      <td>NaN</td>\n",
       "      <td>NaN</td>\n",
       "      <td>...</td>\n",
       "      <td>NaN</td>\n",
       "      <td>cJvF</td>\n",
       "      <td>QMaRwBA</td>\n",
       "      <td>oslk</td>\n",
       "      <td>0D0gQ7h</td>\n",
       "      <td>LM8l689qOp</td>\n",
       "      <td>NaN</td>\n",
       "      <td>7P5s</td>\n",
       "      <td>RAYp</td>\n",
       "      <td>-1</td>\n",
       "    </tr>\n",
       "    <tr>\n",
       "      <th>2</th>\n",
       "      <td>791</td>\n",
       "      <td>7</td>\n",
       "      <td>NaN</td>\n",
       "      <td>148</td>\n",
       "      <td>32</td>\n",
       "      <td>40</td>\n",
       "      <td>8</td>\n",
       "      <td>220.08</td>\n",
       "      <td>38994</td>\n",
       "      <td>NaN</td>\n",
       "      <td>...</td>\n",
       "      <td>pAYuLzc</td>\n",
       "      <td>cJvF</td>\n",
       "      <td>4PcK5YS</td>\n",
       "      <td>oslk</td>\n",
       "      <td>bTP9hga</td>\n",
       "      <td>NaN</td>\n",
       "      <td>ELof</td>\n",
       "      <td>xb3V</td>\n",
       "      <td>RAYp</td>\n",
       "      <td>-1</td>\n",
       "    </tr>\n",
       "    <tr>\n",
       "      <th>3</th>\n",
       "      <td>2142</td>\n",
       "      <td>14</td>\n",
       "      <td>NaN</td>\n",
       "      <td>6592</td>\n",
       "      <td>188</td>\n",
       "      <td>235</td>\n",
       "      <td>96</td>\n",
       "      <td>260.24</td>\n",
       "      <td>1428156</td>\n",
       "      <td>NaN</td>\n",
       "      <td>...</td>\n",
       "      <td>9EXPHGn</td>\n",
       "      <td>cJvF</td>\n",
       "      <td>Tvpip6Z</td>\n",
       "      <td>zCkv</td>\n",
       "      <td>hHJsvbM</td>\n",
       "      <td>LM8l689qOp</td>\n",
       "      <td>ELof</td>\n",
       "      <td>rgKb</td>\n",
       "      <td>6fzt</td>\n",
       "      <td>-1</td>\n",
       "    </tr>\n",
       "    <tr>\n",
       "      <th>4</th>\n",
       "      <td>371</td>\n",
       "      <td>7</td>\n",
       "      <td>NaN</td>\n",
       "      <td>3088</td>\n",
       "      <td>144</td>\n",
       "      <td>180</td>\n",
       "      <td>8</td>\n",
       "      <td>166.56</td>\n",
       "      <td>18960</td>\n",
       "      <td>NaN</td>\n",
       "      <td>...</td>\n",
       "      <td>MmBslbE</td>\n",
       "      <td>cJvF</td>\n",
       "      <td>R8k3REx</td>\n",
       "      <td>oslk</td>\n",
       "      <td>X9aaldM</td>\n",
       "      <td>LM8l689qOp</td>\n",
       "      <td>ELof</td>\n",
       "      <td>FSa2</td>\n",
       "      <td>RAYp</td>\n",
       "      <td>-1</td>\n",
       "    </tr>\n",
       "  </tbody>\n",
       "</table>\n",
       "<p>5 rows × 55 columns</p>\n",
       "</div>"
      ],
      "text/plain": [
       "0  Var1 Var2 Var3  Var4 Var5 Var6 Var7    Var8     Var9 Var10     ...      \\\n",
       "0    14    0  NaN     0   28   35   24  337.12  3992220   NaN     ...       \n",
       "1   NaN  NaN  NaN   NaN  NaN  NaN  NaN     NaN      NaN   NaN     ...       \n",
       "2   791    7  NaN   148   32   40    8  220.08    38994   NaN     ...       \n",
       "3  2142   14  NaN  6592  188  235   96  260.24  1428156   NaN     ...       \n",
       "4   371    7  NaN  3088  144  180    8  166.56    18960   NaN     ...       \n",
       "\n",
       "0    Var46 Var47    Var48 Var49    Var50       Var51 Var52 Var53 Var54  \\\n",
       "0      NaN  UYBR  xtRDFjT  oslk  BDw0V7y  LM8l689qOp   NaN  WqMG  RAYp   \n",
       "1      NaN  cJvF  QMaRwBA  oslk  0D0gQ7h  LM8l689qOp   NaN  7P5s  RAYp   \n",
       "2  pAYuLzc  cJvF  4PcK5YS  oslk  bTP9hga         NaN  ELof  xb3V  RAYp   \n",
       "3  9EXPHGn  cJvF  Tvpip6Z  zCkv  hHJsvbM  LM8l689qOp  ELof  rgKb  6fzt   \n",
       "4  MmBslbE  cJvF  R8k3REx  oslk  X9aaldM  LM8l689qOp  ELof  FSa2  RAYp   \n",
       "\n",
       "0 churn_label  \n",
       "0           1  \n",
       "1          -1  \n",
       "2          -1  \n",
       "3          -1  \n",
       "4          -1  \n",
       "\n",
       "[5 rows x 55 columns]"
      ]
     },
     "execution_count": 31,
     "metadata": {},
     "output_type": "execute_result"
    }
   ],
   "source": [
    "df_final.head()"
   ]
  },
  {
   "cell_type": "code",
   "execution_count": 34,
   "metadata": {
    "collapsed": false
   },
   "outputs": [
    {
     "data": {
      "text/plain": [
       "0\n",
       "Var1            2233\n",
       "Var2            2219\n",
       "Var3           20000\n",
       "Var4            2219\n",
       "Var5            2233\n",
       "Var6            2012\n",
       "Var7            2012\n",
       "Var8            2013\n",
       "Var9            2012\n",
       "Var10          19901\n",
       "Var11              0\n",
       "Var12           2219\n",
       "Var13           2012\n",
       "Var14          19701\n",
       "Var15           2012\n",
       "Var16           2012\n",
       "Var17           2892\n",
       "Var18           2012\n",
       "Var19              0\n",
       "Var20           2012\n",
       "Var21           2219\n",
       "Var22           5613\n",
       "Var23           2012\n",
       "Var24           2012\n",
       "Var25           2233\n",
       "Var26           2892\n",
       "Var27           2012\n",
       "Var28           2012\n",
       "Var29          19505\n",
       "Var30          19597\n",
       "Var31            141\n",
       "Var32              0\n",
       "Var33              0\n",
       "Var34              0\n",
       "Var35             56\n",
       "Var36              0\n",
       "Var37              1\n",
       "Var38          14970\n",
       "Var39              0\n",
       "Var40              0\n",
       "Var41            785\n",
       "Var42           2233\n",
       "Var43             56\n",
       "Var44              0\n",
       "Var45              0\n",
       "Var46          10203\n",
       "Var47            286\n",
       "Var48              0\n",
       "Var49              0\n",
       "Var50              0\n",
       "Var51           2099\n",
       "Var52          10511\n",
       "Var53              0\n",
       "Var54              0\n",
       "churn_label        0\n",
       "dtype: int64"
      ]
     },
     "execution_count": 34,
     "metadata": {},
     "output_type": "execute_result"
    }
   ],
   "source": [
    "df_final.isnull().sum()"
   ]
  },
  {
   "cell_type": "code",
   "execution_count": null,
   "metadata": {
    "collapsed": true
   },
   "outputs": [],
   "source": []
  }
 ],
 "metadata": {
  "kernelspec": {
   "display_name": "Python [Root]",
   "language": "python",
   "name": "Python [Root]"
  },
  "language_info": {
   "codemirror_mode": {
    "name": "ipython",
    "version": 2
   },
   "file_extension": ".py",
   "mimetype": "text/x-python",
   "name": "python",
   "nbconvert_exporter": "python",
   "pygments_lexer": "ipython2",
   "version": "2.7.12"
  }
 },
 "nbformat": 4,
 "nbformat_minor": 0
}
