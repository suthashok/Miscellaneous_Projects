{
 "cells": [
  {
   "cell_type": "markdown",
   "metadata": {},
   "source": [
    "https://www.analyticsvidhya.com/blog/2015/11/easy-methods-deal-categorical-variables-predictive-modeling/"
   ]
  },
  {
   "cell_type": "code",
   "execution_count": 1,
   "metadata": {
    "collapsed": true
   },
   "outputs": [],
   "source": [
    "import pandas as pd\n",
    "import numpy as np\n",
    "import matplotlib.pyplot as plt\n",
    "import seaborn as sn"
   ]
  },
  {
   "cell_type": "markdown",
   "metadata": {},
   "source": [
    "### Training Dataset"
   ]
  },
  {
   "cell_type": "code",
   "execution_count": 50,
   "metadata": {
    "collapsed": false
   },
   "outputs": [],
   "source": [
    "df_train = pd.read_csv('./Data/train_data.txt', sep=\"|\")"
   ]
  },
  {
   "cell_type": "code",
   "execution_count": 51,
   "metadata": {
    "collapsed": false
   },
   "outputs": [
    {
     "data": {
      "text/html": [
       "<div>\n",
       "<table border=\"1\" class=\"dataframe\">\n",
       "  <thead>\n",
       "    <tr style=\"text-align: right;\">\n",
       "      <th></th>\n",
       "      <th>Var1</th>\n",
       "      <th>Var2</th>\n",
       "      <th>Var3</th>\n",
       "      <th>Var4</th>\n",
       "      <th>Var5</th>\n",
       "      <th>Var6</th>\n",
       "      <th>Var7</th>\n",
       "      <th>Var8</th>\n",
       "      <th>Var9</th>\n",
       "      <th>Var10</th>\n",
       "      <th>...</th>\n",
       "      <th>Var45</th>\n",
       "      <th>Var46</th>\n",
       "      <th>Var47</th>\n",
       "      <th>Var48</th>\n",
       "      <th>Var49</th>\n",
       "      <th>Var50</th>\n",
       "      <th>Var51</th>\n",
       "      <th>Var52</th>\n",
       "      <th>Var53</th>\n",
       "      <th>Var54</th>\n",
       "    </tr>\n",
       "  </thead>\n",
       "  <tbody>\n",
       "    <tr>\n",
       "      <th>0</th>\n",
       "      <td>14.0</td>\n",
       "      <td>0.0</td>\n",
       "      <td>NaN</td>\n",
       "      <td>0.0</td>\n",
       "      <td>28.0</td>\n",
       "      <td>35.0</td>\n",
       "      <td>24.0</td>\n",
       "      <td>337.12</td>\n",
       "      <td>3992220.0</td>\n",
       "      <td>NaN</td>\n",
       "      <td>...</td>\n",
       "      <td>NhsEn4L</td>\n",
       "      <td>NaN</td>\n",
       "      <td>UYBR</td>\n",
       "      <td>xtRDFjT</td>\n",
       "      <td>oslk</td>\n",
       "      <td>BDw0V7y</td>\n",
       "      <td>LM8l689qOp</td>\n",
       "      <td>NaN</td>\n",
       "      <td>WqMG</td>\n",
       "      <td>RAYp</td>\n",
       "    </tr>\n",
       "    <tr>\n",
       "      <th>1</th>\n",
       "      <td>NaN</td>\n",
       "      <td>NaN</td>\n",
       "      <td>NaN</td>\n",
       "      <td>NaN</td>\n",
       "      <td>NaN</td>\n",
       "      <td>NaN</td>\n",
       "      <td>NaN</td>\n",
       "      <td>NaN</td>\n",
       "      <td>NaN</td>\n",
       "      <td>NaN</td>\n",
       "      <td>...</td>\n",
       "      <td>NhsEn4L</td>\n",
       "      <td>NaN</td>\n",
       "      <td>cJvF</td>\n",
       "      <td>QMaRwBA</td>\n",
       "      <td>oslk</td>\n",
       "      <td>0D0gQ7h</td>\n",
       "      <td>LM8l689qOp</td>\n",
       "      <td>NaN</td>\n",
       "      <td>7P5s</td>\n",
       "      <td>RAYp</td>\n",
       "    </tr>\n",
       "    <tr>\n",
       "      <th>2</th>\n",
       "      <td>791.0</td>\n",
       "      <td>7.0</td>\n",
       "      <td>NaN</td>\n",
       "      <td>148.0</td>\n",
       "      <td>32.0</td>\n",
       "      <td>40.0</td>\n",
       "      <td>8.0</td>\n",
       "      <td>220.08</td>\n",
       "      <td>38994.0</td>\n",
       "      <td>NaN</td>\n",
       "      <td>...</td>\n",
       "      <td>NhsEn4L</td>\n",
       "      <td>pAYuLzc</td>\n",
       "      <td>cJvF</td>\n",
       "      <td>4PcK5YS</td>\n",
       "      <td>oslk</td>\n",
       "      <td>bTP9hga</td>\n",
       "      <td>NaN</td>\n",
       "      <td>ELof</td>\n",
       "      <td>xb3V</td>\n",
       "      <td>RAYp</td>\n",
       "    </tr>\n",
       "    <tr>\n",
       "      <th>3</th>\n",
       "      <td>2142.0</td>\n",
       "      <td>14.0</td>\n",
       "      <td>NaN</td>\n",
       "      <td>6592.0</td>\n",
       "      <td>188.0</td>\n",
       "      <td>235.0</td>\n",
       "      <td>96.0</td>\n",
       "      <td>260.24</td>\n",
       "      <td>1428156.0</td>\n",
       "      <td>NaN</td>\n",
       "      <td>...</td>\n",
       "      <td>FMSzZ91zL2</td>\n",
       "      <td>9EXPHGn</td>\n",
       "      <td>cJvF</td>\n",
       "      <td>Tvpip6Z</td>\n",
       "      <td>zCkv</td>\n",
       "      <td>hHJsvbM</td>\n",
       "      <td>LM8l689qOp</td>\n",
       "      <td>ELof</td>\n",
       "      <td>rgKb</td>\n",
       "      <td>6fzt</td>\n",
       "    </tr>\n",
       "    <tr>\n",
       "      <th>4</th>\n",
       "      <td>371.0</td>\n",
       "      <td>7.0</td>\n",
       "      <td>NaN</td>\n",
       "      <td>3088.0</td>\n",
       "      <td>144.0</td>\n",
       "      <td>180.0</td>\n",
       "      <td>8.0</td>\n",
       "      <td>166.56</td>\n",
       "      <td>18960.0</td>\n",
       "      <td>NaN</td>\n",
       "      <td>...</td>\n",
       "      <td>XfqtO3UdzaXh_</td>\n",
       "      <td>MmBslbE</td>\n",
       "      <td>cJvF</td>\n",
       "      <td>R8k3REx</td>\n",
       "      <td>oslk</td>\n",
       "      <td>X9aaldM</td>\n",
       "      <td>LM8l689qOp</td>\n",
       "      <td>ELof</td>\n",
       "      <td>FSa2</td>\n",
       "      <td>RAYp</td>\n",
       "    </tr>\n",
       "  </tbody>\n",
       "</table>\n",
       "<p>5 rows × 54 columns</p>\n",
       "</div>"
      ],
      "text/plain": [
       "     Var1  Var2  Var3    Var4   Var5   Var6  Var7    Var8       Var9  Var10  \\\n",
       "0    14.0   0.0   NaN     0.0   28.0   35.0  24.0  337.12  3992220.0    NaN   \n",
       "1     NaN   NaN   NaN     NaN    NaN    NaN   NaN     NaN        NaN    NaN   \n",
       "2   791.0   7.0   NaN   148.0   32.0   40.0   8.0  220.08    38994.0    NaN   \n",
       "3  2142.0  14.0   NaN  6592.0  188.0  235.0  96.0  260.24  1428156.0    NaN   \n",
       "4   371.0   7.0   NaN  3088.0  144.0  180.0   8.0  166.56    18960.0    NaN   \n",
       "\n",
       "   ...            Var45    Var46  Var47    Var48  Var49    Var50       Var51  \\\n",
       "0  ...          NhsEn4L      NaN   UYBR  xtRDFjT   oslk  BDw0V7y  LM8l689qOp   \n",
       "1  ...          NhsEn4L      NaN   cJvF  QMaRwBA   oslk  0D0gQ7h  LM8l689qOp   \n",
       "2  ...          NhsEn4L  pAYuLzc   cJvF  4PcK5YS   oslk  bTP9hga         NaN   \n",
       "3  ...       FMSzZ91zL2  9EXPHGn   cJvF  Tvpip6Z   zCkv  hHJsvbM  LM8l689qOp   \n",
       "4  ...    XfqtO3UdzaXh_  MmBslbE   cJvF  R8k3REx   oslk  X9aaldM  LM8l689qOp   \n",
       "\n",
       "   Var52  Var53  Var54  \n",
       "0    NaN   WqMG   RAYp  \n",
       "1    NaN   7P5s   RAYp  \n",
       "2   ELof   xb3V   RAYp  \n",
       "3   ELof   rgKb   6fzt  \n",
       "4   ELof   FSa2   RAYp  \n",
       "\n",
       "[5 rows x 54 columns]"
      ]
     },
     "execution_count": 51,
     "metadata": {},
     "output_type": "execute_result"
    }
   ],
   "source": [
    "df_train.head()"
   ]
  },
  {
   "cell_type": "markdown",
   "metadata": {},
   "source": [
    "### Churn Flag"
   ]
  },
  {
   "cell_type": "code",
   "execution_count": 52,
   "metadata": {
    "collapsed": false
   },
   "outputs": [],
   "source": [
    "df_churn = pd.read_csv('./Data/churn_labels.txt', sep=\"|\", header=None, names=[\"churn_label\"])"
   ]
  },
  {
   "cell_type": "code",
   "execution_count": 53,
   "metadata": {
    "collapsed": false
   },
   "outputs": [
    {
     "data": {
      "text/plain": [
       "churn_label    20000\n",
       "dtype: int64"
      ]
     },
     "execution_count": 53,
     "metadata": {},
     "output_type": "execute_result"
    }
   ],
   "source": [
    "df_churn.count()"
   ]
  },
  {
   "cell_type": "markdown",
   "metadata": {},
   "source": [
    "## Combining both the Dataframes"
   ]
  },
  {
   "cell_type": "code",
   "execution_count": 97,
   "metadata": {
    "collapsed": true
   },
   "outputs": [],
   "source": [
    "df_final = pd.concat([df_train.reset_index(drop=True), df_churn], axis=1)"
   ]
  },
  {
   "cell_type": "code",
   "execution_count": 55,
   "metadata": {
    "collapsed": false
   },
   "outputs": [
    {
     "data": {
      "text/html": [
       "<div>\n",
       "<table border=\"1\" class=\"dataframe\">\n",
       "  <thead>\n",
       "    <tr style=\"text-align: right;\">\n",
       "      <th></th>\n",
       "      <th>Var1</th>\n",
       "      <th>Var2</th>\n",
       "      <th>Var3</th>\n",
       "      <th>Var4</th>\n",
       "      <th>Var5</th>\n",
       "      <th>Var6</th>\n",
       "      <th>Var7</th>\n",
       "      <th>Var8</th>\n",
       "      <th>Var9</th>\n",
       "      <th>Var10</th>\n",
       "      <th>...</th>\n",
       "      <th>Var46</th>\n",
       "      <th>Var47</th>\n",
       "      <th>Var48</th>\n",
       "      <th>Var49</th>\n",
       "      <th>Var50</th>\n",
       "      <th>Var51</th>\n",
       "      <th>Var52</th>\n",
       "      <th>Var53</th>\n",
       "      <th>Var54</th>\n",
       "      <th>churn_label</th>\n",
       "    </tr>\n",
       "  </thead>\n",
       "  <tbody>\n",
       "    <tr>\n",
       "      <th>0</th>\n",
       "      <td>14.0</td>\n",
       "      <td>0.0</td>\n",
       "      <td>NaN</td>\n",
       "      <td>0.0</td>\n",
       "      <td>28.0</td>\n",
       "      <td>35.0</td>\n",
       "      <td>24.0</td>\n",
       "      <td>337.12</td>\n",
       "      <td>3992220.0</td>\n",
       "      <td>NaN</td>\n",
       "      <td>...</td>\n",
       "      <td>NaN</td>\n",
       "      <td>UYBR</td>\n",
       "      <td>xtRDFjT</td>\n",
       "      <td>oslk</td>\n",
       "      <td>BDw0V7y</td>\n",
       "      <td>LM8l689qOp</td>\n",
       "      <td>NaN</td>\n",
       "      <td>WqMG</td>\n",
       "      <td>RAYp</td>\n",
       "      <td>1</td>\n",
       "    </tr>\n",
       "    <tr>\n",
       "      <th>1</th>\n",
       "      <td>NaN</td>\n",
       "      <td>NaN</td>\n",
       "      <td>NaN</td>\n",
       "      <td>NaN</td>\n",
       "      <td>NaN</td>\n",
       "      <td>NaN</td>\n",
       "      <td>NaN</td>\n",
       "      <td>NaN</td>\n",
       "      <td>NaN</td>\n",
       "      <td>NaN</td>\n",
       "      <td>...</td>\n",
       "      <td>NaN</td>\n",
       "      <td>cJvF</td>\n",
       "      <td>QMaRwBA</td>\n",
       "      <td>oslk</td>\n",
       "      <td>0D0gQ7h</td>\n",
       "      <td>LM8l689qOp</td>\n",
       "      <td>NaN</td>\n",
       "      <td>7P5s</td>\n",
       "      <td>RAYp</td>\n",
       "      <td>-1</td>\n",
       "    </tr>\n",
       "    <tr>\n",
       "      <th>2</th>\n",
       "      <td>791.0</td>\n",
       "      <td>7.0</td>\n",
       "      <td>NaN</td>\n",
       "      <td>148.0</td>\n",
       "      <td>32.0</td>\n",
       "      <td>40.0</td>\n",
       "      <td>8.0</td>\n",
       "      <td>220.08</td>\n",
       "      <td>38994.0</td>\n",
       "      <td>NaN</td>\n",
       "      <td>...</td>\n",
       "      <td>pAYuLzc</td>\n",
       "      <td>cJvF</td>\n",
       "      <td>4PcK5YS</td>\n",
       "      <td>oslk</td>\n",
       "      <td>bTP9hga</td>\n",
       "      <td>NaN</td>\n",
       "      <td>ELof</td>\n",
       "      <td>xb3V</td>\n",
       "      <td>RAYp</td>\n",
       "      <td>-1</td>\n",
       "    </tr>\n",
       "    <tr>\n",
       "      <th>3</th>\n",
       "      <td>2142.0</td>\n",
       "      <td>14.0</td>\n",
       "      <td>NaN</td>\n",
       "      <td>6592.0</td>\n",
       "      <td>188.0</td>\n",
       "      <td>235.0</td>\n",
       "      <td>96.0</td>\n",
       "      <td>260.24</td>\n",
       "      <td>1428156.0</td>\n",
       "      <td>NaN</td>\n",
       "      <td>...</td>\n",
       "      <td>9EXPHGn</td>\n",
       "      <td>cJvF</td>\n",
       "      <td>Tvpip6Z</td>\n",
       "      <td>zCkv</td>\n",
       "      <td>hHJsvbM</td>\n",
       "      <td>LM8l689qOp</td>\n",
       "      <td>ELof</td>\n",
       "      <td>rgKb</td>\n",
       "      <td>6fzt</td>\n",
       "      <td>-1</td>\n",
       "    </tr>\n",
       "    <tr>\n",
       "      <th>4</th>\n",
       "      <td>371.0</td>\n",
       "      <td>7.0</td>\n",
       "      <td>NaN</td>\n",
       "      <td>3088.0</td>\n",
       "      <td>144.0</td>\n",
       "      <td>180.0</td>\n",
       "      <td>8.0</td>\n",
       "      <td>166.56</td>\n",
       "      <td>18960.0</td>\n",
       "      <td>NaN</td>\n",
       "      <td>...</td>\n",
       "      <td>MmBslbE</td>\n",
       "      <td>cJvF</td>\n",
       "      <td>R8k3REx</td>\n",
       "      <td>oslk</td>\n",
       "      <td>X9aaldM</td>\n",
       "      <td>LM8l689qOp</td>\n",
       "      <td>ELof</td>\n",
       "      <td>FSa2</td>\n",
       "      <td>RAYp</td>\n",
       "      <td>-1</td>\n",
       "    </tr>\n",
       "  </tbody>\n",
       "</table>\n",
       "<p>5 rows × 55 columns</p>\n",
       "</div>"
      ],
      "text/plain": [
       "     Var1  Var2  Var3    Var4   Var5   Var6  Var7    Var8       Var9  Var10  \\\n",
       "0    14.0   0.0   NaN     0.0   28.0   35.0  24.0  337.12  3992220.0    NaN   \n",
       "1     NaN   NaN   NaN     NaN    NaN    NaN   NaN     NaN        NaN    NaN   \n",
       "2   791.0   7.0   NaN   148.0   32.0   40.0   8.0  220.08    38994.0    NaN   \n",
       "3  2142.0  14.0   NaN  6592.0  188.0  235.0  96.0  260.24  1428156.0    NaN   \n",
       "4   371.0   7.0   NaN  3088.0  144.0  180.0   8.0  166.56    18960.0    NaN   \n",
       "\n",
       "      ...         Var46  Var47    Var48  Var49    Var50       Var51  Var52  \\\n",
       "0     ...           NaN   UYBR  xtRDFjT   oslk  BDw0V7y  LM8l689qOp    NaN   \n",
       "1     ...           NaN   cJvF  QMaRwBA   oslk  0D0gQ7h  LM8l689qOp    NaN   \n",
       "2     ...       pAYuLzc   cJvF  4PcK5YS   oslk  bTP9hga         NaN   ELof   \n",
       "3     ...       9EXPHGn   cJvF  Tvpip6Z   zCkv  hHJsvbM  LM8l689qOp   ELof   \n",
       "4     ...       MmBslbE   cJvF  R8k3REx   oslk  X9aaldM  LM8l689qOp   ELof   \n",
       "\n",
       "   Var53  Var54  churn_label  \n",
       "0   WqMG   RAYp            1  \n",
       "1   7P5s   RAYp           -1  \n",
       "2   xb3V   RAYp           -1  \n",
       "3   rgKb   6fzt           -1  \n",
       "4   FSa2   RAYp           -1  \n",
       "\n",
       "[5 rows x 55 columns]"
      ]
     },
     "execution_count": 55,
     "metadata": {},
     "output_type": "execute_result"
    }
   ],
   "source": [
    "df_final.head()"
   ]
  },
  {
   "cell_type": "code",
   "execution_count": 56,
   "metadata": {
    "collapsed": false
   },
   "outputs": [
    {
     "data": {
      "text/plain": [
       "Var1            2233\n",
       "Var2            2219\n",
       "Var3           20000\n",
       "Var4            2219\n",
       "Var5            2233\n",
       "Var6            2012\n",
       "Var7            2012\n",
       "Var8            2013\n",
       "Var9            2012\n",
       "Var10          19901\n",
       "Var11              0\n",
       "Var12           2219\n",
       "Var13           2012\n",
       "Var14          19701\n",
       "Var15           2012\n",
       "Var16           2012\n",
       "Var17           2892\n",
       "Var18           2012\n",
       "Var19              0\n",
       "Var20           2012\n",
       "Var21           2219\n",
       "Var22           5613\n",
       "Var23           2012\n",
       "Var24           2012\n",
       "Var25           2233\n",
       "Var26           2892\n",
       "Var27           2012\n",
       "Var28           2012\n",
       "Var29          19505\n",
       "Var30          19597\n",
       "Var31            141\n",
       "Var32              0\n",
       "Var33              0\n",
       "Var34              0\n",
       "Var35             56\n",
       "Var36              0\n",
       "Var37              1\n",
       "Var38          14970\n",
       "Var39              0\n",
       "Var40              0\n",
       "Var41            785\n",
       "Var42           2233\n",
       "Var43             56\n",
       "Var44              0\n",
       "Var45              0\n",
       "Var46          10203\n",
       "Var47            286\n",
       "Var48              0\n",
       "Var49              0\n",
       "Var50              0\n",
       "Var51           2099\n",
       "Var52          10511\n",
       "Var53              0\n",
       "Var54              0\n",
       "churn_label        0\n",
       "dtype: int64"
      ]
     },
     "execution_count": 56,
     "metadata": {},
     "output_type": "execute_result"
    }
   ],
   "source": [
    "df_final.isnull().sum()"
   ]
  },
  {
   "cell_type": "code",
   "execution_count": 99,
   "metadata": {
    "collapsed": true
   },
   "outputs": [],
   "source": [
    "df_final=df_final.drop(['Var3'], axis=1)"
   ]
  },
  {
   "cell_type": "code",
   "execution_count": 102,
   "metadata": {
    "collapsed": false
   },
   "outputs": [
    {
     "data": {
      "text/plain": [
       "Var1           float64\n",
       "Var2           float64\n",
       "Var4           float64\n",
       "Var5           float64\n",
       "Var6           float64\n",
       "Var7           float64\n",
       "Var8           float64\n",
       "Var9           float64\n",
       "Var10          float64\n",
       "Var11            int64\n",
       "Var12          float64\n",
       "Var13          float64\n",
       "Var14          float64\n",
       "Var15          float64\n",
       "Var16          float64\n",
       "Var17          float64\n",
       "Var18          float64\n",
       "Var19          float64\n",
       "Var20          float64\n",
       "Var21          float64\n",
       "Var22          float64\n",
       "Var23          float64\n",
       "Var24          float64\n",
       "Var25          float64\n",
       "Var26          float64\n",
       "Var27          float64\n",
       "Var28          float64\n",
       "Var29          float64\n",
       "Var30           object\n",
       "Var31           object\n",
       "Var32           object\n",
       "Var33           object\n",
       "Var34           object\n",
       "Var35           object\n",
       "Var36           object\n",
       "Var37           object\n",
       "Var38           object\n",
       "Var39           object\n",
       "Var40           object\n",
       "Var41           object\n",
       "Var42           object\n",
       "Var43           object\n",
       "Var44           object\n",
       "Var45           object\n",
       "Var46           object\n",
       "Var47           object\n",
       "Var48           object\n",
       "Var49           object\n",
       "Var50           object\n",
       "Var51           object\n",
       "Var52           object\n",
       "Var53           object\n",
       "Var54           object\n",
       "churn_label      int64\n",
       "dtype: object"
      ]
     },
     "execution_count": 102,
     "metadata": {},
     "output_type": "execute_result"
    }
   ],
   "source": [
    "df_final.dtypes"
   ]
  },
  {
   "cell_type": "code",
   "execution_count": 139,
   "metadata": {
    "collapsed": false
   },
   "outputs": [
    {
     "data": {
      "text/plain": [
       "Var1       131761.00\n",
       "Var2           42.00\n",
       "Var4        46068.00\n",
       "Var5        24940.00\n",
       "Var6        31175.00\n",
       "Var7         8912.00\n",
       "Var8         2681.36\n",
       "Var9     18144000.00\n",
       "Var10      223728.30\n",
       "Var12      142156.00\n",
       "Var13    19353600.00\n",
       "Var14         558.00\n",
       "Var15          39.00\n",
       "Var16        3145.00\n",
       "Var17        4984.00\n",
       "Var18        5280.00\n",
       "Var19     9932480.00\n",
       "Var20       10704.00\n",
       "Var21     3890952.00\n",
       "Var22          68.00\n",
       "Var23         120.00\n",
       "Var24          18.00\n",
       "Var25          81.00\n",
       "Var26    16934400.00\n",
       "Var27    13907800.00\n",
       "Var28    14515200.00\n",
       "Var29         628.62\n",
       "dtype: float64"
      ]
     },
     "execution_count": 139,
     "metadata": {},
     "output_type": "execute_result"
    }
   ],
   "source": [
    "df1=df_final.select_dtypes(include=['float64'])\n",
    "df1.max()#df1.max(axis=1)"
   ]
  },
  {
   "cell_type": "code",
   "execution_count": 140,
   "metadata": {
    "collapsed": false
   },
   "outputs": [
    {
     "data": {
      "text/plain": [
       "Var1           0.00\n",
       "Var2           0.00\n",
       "Var4           0.00\n",
       "Var5           0.00\n",
       "Var6           0.00\n",
       "Var7           0.00\n",
       "Var8         -66.88\n",
       "Var9           0.00\n",
       "Var10          0.00\n",
       "Var12          0.00\n",
       "Var13          0.00\n",
       "Var14          0.00\n",
       "Var15          0.00\n",
       "Var16          0.00\n",
       "Var17          0.00\n",
       "Var18          0.00\n",
       "Var19   -9803600.00\n",
       "Var20          0.00\n",
       "Var21          0.00\n",
       "Var22        -32.00\n",
       "Var23          0.00\n",
       "Var24          0.00\n",
       "Var25          0.00\n",
       "Var26          0.00\n",
       "Var27          0.00\n",
       "Var28          0.00\n",
       "Var29         -6.42\n",
       "dtype: float64"
      ]
     },
     "execution_count": 140,
     "metadata": {},
     "output_type": "execute_result"
    }
   ],
   "source": [
    "df1.min()#df1.max(axis=1)"
   ]
  },
  {
   "cell_type": "code",
   "execution_count": 116,
   "metadata": {
    "collapsed": false
   },
   "outputs": [],
   "source": [
    "df2=df1.fillna(-1000)"
   ]
  },
  {
   "cell_type": "code",
   "execution_count": 117,
   "metadata": {
    "collapsed": false
   },
   "outputs": [
    {
     "data": {
      "text/html": [
       "<div>\n",
       "<table border=\"1\" class=\"dataframe\">\n",
       "  <thead>\n",
       "    <tr style=\"text-align: right;\">\n",
       "      <th></th>\n",
       "      <th>Var1</th>\n",
       "      <th>Var2</th>\n",
       "      <th>Var4</th>\n",
       "      <th>Var5</th>\n",
       "      <th>Var6</th>\n",
       "      <th>Var7</th>\n",
       "      <th>Var8</th>\n",
       "      <th>Var9</th>\n",
       "      <th>Var10</th>\n",
       "      <th>Var11</th>\n",
       "      <th>...</th>\n",
       "      <th>Var20</th>\n",
       "      <th>Var21</th>\n",
       "      <th>Var22</th>\n",
       "      <th>Var23</th>\n",
       "      <th>Var24</th>\n",
       "      <th>Var25</th>\n",
       "      <th>Var26</th>\n",
       "      <th>Var27</th>\n",
       "      <th>Var28</th>\n",
       "      <th>Var29</th>\n",
       "    </tr>\n",
       "  </thead>\n",
       "  <tbody>\n",
       "    <tr>\n",
       "      <th>0</th>\n",
       "      <td>14.0</td>\n",
       "      <td>0.0</td>\n",
       "      <td>0.0</td>\n",
       "      <td>28.0</td>\n",
       "      <td>35.0</td>\n",
       "      <td>24.0</td>\n",
       "      <td>337.12</td>\n",
       "      <td>3992220.0</td>\n",
       "      <td>-1000.0</td>\n",
       "      <td>14</td>\n",
       "      <td>...</td>\n",
       "      <td>12.0</td>\n",
       "      <td>0.0</td>\n",
       "      <td>-10.0</td>\n",
       "      <td>8.0</td>\n",
       "      <td>0.0</td>\n",
       "      <td>0.0</td>\n",
       "      <td>0.0</td>\n",
       "      <td>6793000.0</td>\n",
       "      <td>0.0</td>\n",
       "      <td>-1000.0</td>\n",
       "    </tr>\n",
       "    <tr>\n",
       "      <th>1</th>\n",
       "      <td>-1000.0</td>\n",
       "      <td>-1000.0</td>\n",
       "      <td>-1000.0</td>\n",
       "      <td>-1000.0</td>\n",
       "      <td>-1000.0</td>\n",
       "      <td>-1000.0</td>\n",
       "      <td>-1000.00</td>\n",
       "      <td>-1000.0</td>\n",
       "      <td>-1000.0</td>\n",
       "      <td>8</td>\n",
       "      <td>...</td>\n",
       "      <td>-1000.0</td>\n",
       "      <td>-1000.0</td>\n",
       "      <td>-22.0</td>\n",
       "      <td>-1000.0</td>\n",
       "      <td>-1000.0</td>\n",
       "      <td>-1000.0</td>\n",
       "      <td>-1000.0</td>\n",
       "      <td>-1000.0</td>\n",
       "      <td>-1000.0</td>\n",
       "      <td>-1000.0</td>\n",
       "    </tr>\n",
       "    <tr>\n",
       "      <th>2</th>\n",
       "      <td>791.0</td>\n",
       "      <td>7.0</td>\n",
       "      <td>148.0</td>\n",
       "      <td>32.0</td>\n",
       "      <td>40.0</td>\n",
       "      <td>8.0</td>\n",
       "      <td>220.08</td>\n",
       "      <td>38994.0</td>\n",
       "      <td>-1000.0</td>\n",
       "      <td>46</td>\n",
       "      <td>...</td>\n",
       "      <td>6.0</td>\n",
       "      <td>106686.0</td>\n",
       "      <td>22.0</td>\n",
       "      <td>0.0</td>\n",
       "      <td>0.0</td>\n",
       "      <td>9.0</td>\n",
       "      <td>0.0</td>\n",
       "      <td>9103760.0</td>\n",
       "      <td>0.0</td>\n",
       "      <td>-1000.0</td>\n",
       "    </tr>\n",
       "    <tr>\n",
       "      <th>3</th>\n",
       "      <td>2142.0</td>\n",
       "      <td>14.0</td>\n",
       "      <td>6592.0</td>\n",
       "      <td>188.0</td>\n",
       "      <td>235.0</td>\n",
       "      <td>96.0</td>\n",
       "      <td>260.24</td>\n",
       "      <td>1428156.0</td>\n",
       "      <td>-1000.0</td>\n",
       "      <td>104</td>\n",
       "      <td>...</td>\n",
       "      <td>42.0</td>\n",
       "      <td>13293.0</td>\n",
       "      <td>-28.0</td>\n",
       "      <td>0.0</td>\n",
       "      <td>0.0</td>\n",
       "      <td>27.0</td>\n",
       "      <td>1209600.0</td>\n",
       "      <td>10151760.0</td>\n",
       "      <td>518400.0</td>\n",
       "      <td>-1000.0</td>\n",
       "    </tr>\n",
       "    <tr>\n",
       "      <th>4</th>\n",
       "      <td>371.0</td>\n",
       "      <td>7.0</td>\n",
       "      <td>3088.0</td>\n",
       "      <td>144.0</td>\n",
       "      <td>180.0</td>\n",
       "      <td>8.0</td>\n",
       "      <td>166.56</td>\n",
       "      <td>18960.0</td>\n",
       "      <td>-1000.0</td>\n",
       "      <td>154</td>\n",
       "      <td>...</td>\n",
       "      <td>24.0</td>\n",
       "      <td>17397.0</td>\n",
       "      <td>-1000.0</td>\n",
       "      <td>0.0</td>\n",
       "      <td>0.0</td>\n",
       "      <td>9.0</td>\n",
       "      <td>11613.0</td>\n",
       "      <td>116088.0</td>\n",
       "      <td>18210.0</td>\n",
       "      <td>-1000.0</td>\n",
       "    </tr>\n",
       "  </tbody>\n",
       "</table>\n",
       "<p>5 rows × 28 columns</p>\n",
       "</div>"
      ],
      "text/plain": [
       "     Var1    Var2    Var4    Var5    Var6    Var7     Var8       Var9   Var10  \\\n",
       "0    14.0     0.0     0.0    28.0    35.0    24.0   337.12  3992220.0 -1000.0   \n",
       "1 -1000.0 -1000.0 -1000.0 -1000.0 -1000.0 -1000.0 -1000.00    -1000.0 -1000.0   \n",
       "2   791.0     7.0   148.0    32.0    40.0     8.0   220.08    38994.0 -1000.0   \n",
       "3  2142.0    14.0  6592.0   188.0   235.0    96.0   260.24  1428156.0 -1000.0   \n",
       "4   371.0     7.0  3088.0   144.0   180.0     8.0   166.56    18960.0 -1000.0   \n",
       "\n",
       "   Var11   ...     Var20     Var21   Var22   Var23   Var24   Var25      Var26  \\\n",
       "0     14   ...      12.0       0.0   -10.0     8.0     0.0     0.0        0.0   \n",
       "1      8   ...   -1000.0   -1000.0   -22.0 -1000.0 -1000.0 -1000.0    -1000.0   \n",
       "2     46   ...       6.0  106686.0    22.0     0.0     0.0     9.0        0.0   \n",
       "3    104   ...      42.0   13293.0   -28.0     0.0     0.0    27.0  1209600.0   \n",
       "4    154   ...      24.0   17397.0 -1000.0     0.0     0.0     9.0    11613.0   \n",
       "\n",
       "        Var27     Var28   Var29  \n",
       "0   6793000.0       0.0 -1000.0  \n",
       "1     -1000.0   -1000.0 -1000.0  \n",
       "2   9103760.0       0.0 -1000.0  \n",
       "3  10151760.0  518400.0 -1000.0  \n",
       "4    116088.0   18210.0 -1000.0  \n",
       "\n",
       "[5 rows x 28 columns]"
      ]
     },
     "execution_count": 117,
     "metadata": {},
     "output_type": "execute_result"
    }
   ],
   "source": [
    "df2.head()"
   ]
  },
  {
   "cell_type": "code",
   "execution_count": 119,
   "metadata": {
    "collapsed": false
   },
   "outputs": [
    {
     "data": {
      "text/plain": [
       "Var30    object\n",
       "Var31    object\n",
       "Var32    object\n",
       "Var33    object\n",
       "Var34    object\n",
       "Var35    object\n",
       "Var36    object\n",
       "Var37    object\n",
       "Var38    object\n",
       "Var39    object\n",
       "Var40    object\n",
       "Var41    object\n",
       "Var42    object\n",
       "Var43    object\n",
       "Var44    object\n",
       "Var45    object\n",
       "Var46    object\n",
       "Var47    object\n",
       "Var48    object\n",
       "Var49    object\n",
       "Var50    object\n",
       "Var51    object\n",
       "Var52    object\n",
       "Var53    object\n",
       "Var54    object\n",
       "dtype: object"
      ]
     },
     "execution_count": 119,
     "metadata": {},
     "output_type": "execute_result"
    }
   ],
   "source": [
    "df3=df_final.select_dtypes(include=['object'])\n",
    "df3.dtypes#df1.max(axis=1)"
   ]
  },
  {
   "cell_type": "code",
   "execution_count": 130,
   "metadata": {
    "collapsed": false
   },
   "outputs": [],
   "source": [
    "df4=df3.fillna('Unknown')"
   ]
  },
  {
   "cell_type": "code",
   "execution_count": 132,
   "metadata": {
    "collapsed": false
   },
   "outputs": [
    {
     "data": {
      "text/plain": [
       "Var30       2\n",
       "Var31     321\n",
       "Var32      46\n",
       "Var33      22\n",
       "Var34       3\n",
       "Var35     205\n",
       "Var36    2784\n",
       "Var37    2777\n",
       "Var38       3\n",
       "Var39    4776\n",
       "Var40     100\n",
       "Var41       4\n",
       "Var42      22\n",
       "Var43       3\n",
       "Var44       2\n",
       "Var45      74\n",
       "Var46    7826\n",
       "Var47       3\n",
       "Var48    2784\n",
       "Var49       7\n",
       "Var50    2784\n",
       "Var51       5\n",
       "Var52       4\n",
       "Var53      23\n",
       "Var54       7\n",
       "dtype: int64"
      ]
     },
     "execution_count": 132,
     "metadata": {},
     "output_type": "execute_result"
    }
   ],
   "source": [
    "df4.apply(pd.Series.nunique)"
   ]
  },
  {
   "cell_type": "code",
   "execution_count": 133,
   "metadata": {
    "collapsed": false
   },
   "outputs": [],
   "source": [
    "df4_p1=df4.loc[:, df4.apply(lambda x: x.nunique()) <= 10]"
   ]
  },
  {
   "cell_type": "code",
   "execution_count": 134,
   "metadata": {
    "collapsed": false
   },
   "outputs": [],
   "source": [
    "df4_p2=df4.loc[:, df4.apply(lambda x: x.nunique()) > 10]"
   ]
  },
  {
   "cell_type": "code",
   "execution_count": 136,
   "metadata": {
    "collapsed": false
   },
   "outputs": [
    {
     "data": {
      "text/plain": [
       "Var31     321\n",
       "Var32      46\n",
       "Var33      22\n",
       "Var35     205\n",
       "Var36    2784\n",
       "Var37    2777\n",
       "Var39    4776\n",
       "Var40     100\n",
       "Var42      22\n",
       "Var45      74\n",
       "Var46    7826\n",
       "Var48    2784\n",
       "Var50    2784\n",
       "Var53      23\n",
       "dtype: int64"
      ]
     },
     "execution_count": 136,
     "metadata": {},
     "output_type": "execute_result"
    }
   ],
   "source": [
    "df4_p2.apply(pd.Series.nunique)"
   ]
  },
  {
   "cell_type": "code",
   "execution_count": 144,
   "metadata": {
    "collapsed": false
   },
   "outputs": [],
   "source": [
    "a=df4_p2.Var31.value_counts()"
   ]
  },
  {
   "cell_type": "code",
   "execution_count": 147,
   "metadata": {
    "collapsed": false
   },
   "outputs": [],
   "source": [
    "a.to_csv('a.csv')"
   ]
  },
  {
   "cell_type": "code",
   "execution_count": null,
   "metadata": {
    "collapsed": true
   },
   "outputs": [],
   "source": []
  }
 ],
 "metadata": {
  "kernelspec": {
   "display_name": "Python [Root]",
   "language": "python",
   "name": "Python [Root]"
  },
  "language_info": {
   "codemirror_mode": {
    "name": "ipython",
    "version": 2
   },
   "file_extension": ".py",
   "mimetype": "text/x-python",
   "name": "python",
   "nbconvert_exporter": "python",
   "pygments_lexer": "ipython2",
   "version": "2.7.12"
  }
 },
 "nbformat": 4,
 "nbformat_minor": 0
}
